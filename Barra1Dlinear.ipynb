{
 "cells": [
  {
   "cell_type": "code",
   "execution_count": 15,
   "id": "6d322066-2005-48fa-937e-242eae22cf4c",
   "metadata": {},
   "outputs": [],
   "source": [
    "# Importar todos os comandos da biblioteca sympy\n",
    "from sympy import *\n",
    "import numpy as np\n",
    "\n",
    "x,x_i,x_j,L_e,E,A,qi,qj = symbols('x x_i x_j L_e E A qi qj')\n",
    "\n",
    "PSI=Matrix([1, x])\n",
    "PSI0=Matrix([ [1, 0] , [1, L_e] ])\n",
    "print(PSI)"
   ]
  },
  {
   "cell_type": "code",
   "execution_count": 19,
   "id": "9a358950-4e49-4214-99e1-cd496e4e43db",
   "metadata": {},
   "outputs": [
    {
     "data": {
      "text/latex": [
       "$\\displaystyle \\left[\\begin{matrix}\\frac{L_{e} - x}{L_{e}} & \\frac{x}{L_{e}}\\end{matrix}\\right]$"
      ],
      "text/plain": [
       "Matrix([[(L_e - x)/L_e, x/L_e]])"
      ]
     },
     "execution_count": 19,
     "metadata": {},
     "output_type": "execute_result"
    }
   ],
   "source": [
    "N = PSI.T*PSI0.inv()\n",
    "simplify(N)"
   ]
  },
  {
   "cell_type": "code",
   "execution_count": 20,
   "id": "8a174129-04e7-4e78-9999-3858d08fa5ae",
   "metadata": {},
   "outputs": [
    {
     "data": {
      "text/latex": [
       "$\\displaystyle \\left[\\begin{matrix}- \\frac{1}{L_{e}} & \\frac{1}{L_{e}}\\end{matrix}\\right]$"
      ],
      "text/plain": [
       "Matrix([[-1/L_e, 1/L_e]])"
      ]
     },
     "execution_count": 20,
     "metadata": {},
     "output_type": "execute_result"
    }
   ],
   "source": [
    "B = diff(N,x)\n",
    "simplify(B)"
   ]
  },
  {
   "cell_type": "code",
   "execution_count": 21,
   "id": "1d73db54-e821-4c74-b556-9d434acb416d",
   "metadata": {},
   "outputs": [
    {
     "data": {
      "text/latex": [
       "$\\displaystyle \\left[\\begin{matrix}\\frac{A E}{L_{e}} & - \\frac{A E}{L_{e}}\\\\- \\frac{A E}{L_{e}} & \\frac{A E}{L_{e}}\\end{matrix}\\right]$"
      ],
      "text/plain": [
       "Matrix([\n",
       "[ A*E/L_e, -A*E/L_e],\n",
       "[-A*E/L_e,  A*E/L_e]])"
      ]
     },
     "execution_count": 21,
     "metadata": {},
     "output_type": "execute_result"
    }
   ],
   "source": [
    "ke=integrate(B.T*E*A*B,(x,0,L_e))\n",
    "simplify(ke)"
   ]
  },
  {
   "cell_type": "code",
   "execution_count": 23,
   "id": "16a5b59d-981c-451f-b790-fe41cae7a86e",
   "metadata": {},
   "outputs": [
    {
     "data": {
      "text/latex": [
       "$\\displaystyle \\left[\\begin{matrix}\\frac{L_{e} \\left(2 qi + qj\\right)}{6}\\\\\\frac{L_{e} \\left(qi + 2 qj\\right)}{6}\\end{matrix}\\right]$"
      ],
      "text/plain": [
       "Matrix([\n",
       "[L_e*(2*qi + qj)/6],\n",
       "[L_e*(qi + 2*qj)/6]])"
      ]
     },
     "execution_count": 23,
     "metadata": {},
     "output_type": "execute_result"
    }
   ],
   "source": [
    "q=Matrix([qi,qj])\n",
    "fe=integrate(N.T*N*q,(x,0,L_e))\n",
    "simplify(fe)"
   ]
  },
  {
   "cell_type": "code",
   "execution_count": null,
   "id": "ed1a5fd7-1930-4ec8-a896-5163a70a8f0e",
   "metadata": {},
   "outputs": [],
   "source": []
  }
 ],
 "metadata": {
  "kernelspec": {
   "display_name": "Python 3 (ipykernel)",
   "language": "python",
   "name": "python3"
  },
  "language_info": {
   "codemirror_mode": {
    "name": "ipython",
    "version": 3
   },
   "file_extension": ".py",
   "mimetype": "text/x-python",
   "name": "python",
   "nbconvert_exporter": "python",
   "pygments_lexer": "ipython3",
   "version": "3.10.9"
  }
 },
 "nbformat": 4,
 "nbformat_minor": 5
}
