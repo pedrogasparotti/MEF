{
 "cells": [
  {
   "cell_type": "code",
   "execution_count": 1,
   "metadata": {
    "id": "nRof8V4auWgV"
   },
   "outputs": [],
   "source": [
    "import numpy as np\n",
    "from pylab import *\n",
    "import matplotlib.pyplot as plt\n",
    "from sympy import *\n",
    "\n",
    "#Dados do problema:\n",
    "\n",
    "n_nos=5 #Número de nós\n",
    "n_el=4 #Número de elementos\n",
    "# número de cada nó e coordenadas x dos mesmos\n",
    "no = [0,  1,   2,   3,   4       ]\n",
    "x  = [0,  2,   4,   6,   8       ]\n"
   ]
  },
  {
   "cell_type": "code",
   "execution_count": 5,
   "metadata": {
    "id": "sT5gBp7ZuWgZ"
   },
   "outputs": [],
   "source": [
    "# Matriz de conectividade: [elemento, Número da seção, primeiro nó, segundo nó]\n",
    "conec = np.array([[0,   0,   0,   1],\n",
    "                  [1,   0,   1,   2],\n",
    "                  [2,   0,   2,   3],\n",
    "                  [3,   0,   3,   4]])\n",
    "\n",
    "n_sec=1 # Número de seções distintas presentes na estrutura\n",
    "\n",
    "# Matriz de Seções: [número da seção, área, módulo de elasticidade, momento de inércia,\n",
    "# distância vertical à linha neutra, cf]\n",
    "secoes = np.array([[0, .2*.6, 200e9, .2*.6**3/12, .6/2, 4e8]])"
   ]
  },
  {
   "cell_type": "code",
   "execution_count": 6,
   "metadata": {
    "id": "2WmpnCpcuWgb"
   },
   "outputs": [],
   "source": [
    "# Carregamentos nodais (Fzão da estrutura)\n",
    "n_forcas=1 #Número de nós na qual atuam forças\n",
    "#Matriz de forças [nó (primeiro nó é o nó zero e não 1), força em y, momento em z]\n",
    "forcas=np.matrix([4,      -2e3,    4e3])"
   ]
  },
  {
   "cell_type": "code",
   "execution_count": 7,
   "metadata": {
    "id": "No8So3QVuWgd"
   },
   "outputs": [],
   "source": [
    "# Carregamentos equivalentes (Feq da estrutura)\n",
    "n_eq=4 # número de elementos que contem carregamentos equivalentes\n",
    "# Matriz de carregamento equivalente = [elemento, tipo de carregamento, intensidade, posição (para o caso de carregamento concentrado entre nós)]\n",
    "w_eq=np.array([[0, 1, -5e3, 0],\n",
    "               [1, 1, -5e3, 0],\n",
    "               [2, 1, -5e3, 0],\n",
    "               [3, 1, -5e3, 0]])\n",
    "# LEMBRETE: os sinais das forças devem seguir o sistema LOCAL do elemento!"
   ]
  },
  {
   "cell_type": "code",
   "execution_count": 8,
   "metadata": {
    "id": "_XCJgiC9uWge"
   },
   "outputs": [],
   "source": [
    "# Apoios\n",
    "n_rest=1  #número de nós restringidos\n",
    "#Matriz de condições de contorno\n",
    "# [número do nó, restringido_y, restringido_theta] (1 para restringido, e 0 para livre)\n",
    "GDL_rest=np.array([[0, 1, 1]])\n"
   ]
  },
  {
   "cell_type": "code",
   "execution_count": 12,
   "metadata": {
    "id": "0otZLFIYuWgf"
   },
   "outputs": [],
   "source": [
    "# CALCULO DA ESTRUTURA\n",
    "GDL=2*n_nos  #graus de liberdade da estrutura\n",
    "K=np.zeros((GDL,GDL)) #matriz rigidez global\n",
    "\n",
    "# Cálculo da matriz de cada elemento\n",
    "for el in range(n_el):\n",
    "    \n",
    "    #print(el)\n",
    "    #calculo do comprimento do elemento el\n",
    "    \n",
    "    no1=conec[el,2]\n",
    "    no2=conec[el,3]\n",
    "\n",
    "    #L=abs(x(no2)-x(no1))\n",
    "\n",
    "    L = np.sqrt((x[no2] - x[no1])**2)\n",
    "\n",
    "    #Propriedades\n",
    "    A = secoes[conec[el,1],1]\n",
    "    E = secoes[conec[el,1],2]\n",
    "    Iz = secoes[conec[el,1],3]\n",
    "    cf = secoes[conec[el,1],5]\n",
    "\n",
    "    # Construo da matriz de rigidez em coordenadas locais\n",
    "    \n",
    "    k2=12*E*Iz/L**3\n",
    "    k3=6*E*Iz/L**2\n",
    "    k4=4*E*Iz/L\n",
    "    k5=k4/2\n",
    "    ke=np.array([[k2, k3, -k2, k3],\n",
    "                [ k3, k4, -k3, k5],\n",
    "                [-k2,-k3,  k2,-k3],\n",
    "                [ k3, k5, -k3, k4]])\n",
    "\n",
    "    km=np.array([[13*L*cf/35, 11*L**2*cf/210,  9*L*cf/70,   -13*L**2*cf/420],\n",
    "                [ 11*L**2*cf/210, L**3*cf/105, 13*L**2*cf/420, -L**3*cf/140],\n",
    "                [9*L*cf/70,    13*L**2*cf/420, 13*L*cf/35,  -11*L**2*cf/210],\n",
    "                [-13*L**2*cf/420, -L**3*cf/140, -11*L**2*cf/210, L**3*cf/105]])\n",
    "    kg=ke+km\n",
    "\n",
    "    # Determinando matriz de incidência cinemática:\n",
    "\n",
    "    b = np.zeros((4,GDL))\n",
    "    i=no1\n",
    "    j=no2\n",
    "    b[0,2*i] = 1\n",
    "    b[1,2*i+1] = 1\n",
    "    b[2,2*j] = 1\n",
    "    b[3,2*j+1] = 1\n",
    "\n",
    "    #Expandindo e convertendo a matriz do elemento para coordenadas globais:\n",
    "\n",
    "    Ki=np.dot(np.transpose(b),np.dot(kg,b))\n",
    "    \n",
    "    #Somando contribuição do elemento para a matriz de rigidez global:\n",
    "    K = K + Ki"
   ]
  },
  {
   "cell_type": "code",
   "execution_count": 13,
   "metadata": {
    "id": "cEB4BzDMuWgh"
   },
   "outputs": [],
   "source": [
    "# Vetor de forcas Global\n",
    "F=np.zeros((GDL,1))\n",
    "for i in range(n_forcas):\n",
    "    F[int(2*forcas[i,0])]=forcas[i,1]\n",
    "    F[int(2*forcas[i,0])+1]=forcas[i,2]"
   ]
  },
  {
   "cell_type": "code",
   "execution_count": 14,
   "metadata": {
    "id": "7vvorSgnuWgi"
   },
   "outputs": [],
   "source": [
    "# Construção do vetor de foras equivalentes\n",
    "Feq=np.zeros((GDL,1))\n",
    "for i in range(n_eq):\n",
    "    tipo=int(w_eq[i,1])   #tipo de força equivalente\n",
    "    el=int(w_eq[i,0])     #elemento onde está aplicada\n",
    "    if tipo==1: #Carregamento distribuído\n",
    "        f=np.zeros((4,1))\n",
    "        no1=conec[el,2]\n",
    "        no2=conec[el,3]\n",
    "        L = np.sqrt((x[no2] - x[no1])**2)\n",
    "        w=w_eq[i,2]\n",
    "        f[0]=+w*L/2\n",
    "        f[1]=+w*L**2/12\n",
    "        f[2]=+w*L/2\n",
    "        f[3]=-w*L**2/12\n",
    "\n",
    "        Feq[2*no1]=Feq[2*no1]+f[0]\n",
    "        Feq[2*no1+1]=Feq[2*no1+1]+f[1]\n",
    "        Feq[2*no2]=Feq[2*no2]+f[2]\n",
    "        Feq[2*no2+1]=Feq[2*no2+1]+f[3]"
   ]
  },
  {
   "cell_type": "code",
   "execution_count": 15,
   "metadata": {
    "id": "c2N7lkzpuWgj"
   },
   "outputs": [],
   "source": [
    "# guardamos os originais de K e F\n",
    "Kg=np.copy(K)\n",
    "#Kg[:] = K[:]\n",
    "\n",
    "Fg=F+Feq\n",
    "# Aplicar Restrições (condições de contorno)\n",
    "for k in range(n_rest):\n",
    "    # Verifica se há restrição na direção y\n",
    "    if GDL_rest[k,1]==1:\n",
    "        j=2*GDL_rest[k,0]\n",
    "        #Modificar Matriz de Rigidez\n",
    "        for i in range(GDL):\n",
    "            Kg[j,i]=0   #zera linha\n",
    "            Kg[i,j]=0   #zera coluna\n",
    "        Kg[j,j]=1       #valor unitário na diagonal principal\n",
    "        Fg[j]=0\n",
    "    # Verifica se há restrição na rotação\n",
    "    if GDL_rest[k,2]==1:\n",
    "        j=2*GDL_rest[k,0]+1\n",
    "        #Modificar Matriz de Rigidez\n",
    "        for i in range(GDL):\n",
    "            Kg[j,i]=0   #zera linha\n",
    "            Kg[i,j]=0   #zera coluna\n",
    "        Kg[j,j]=1       #valor unitário na diagonal principal\n",
    "        Fg[j]=0\n"
   ]
  },
  {
   "cell_type": "code",
   "execution_count": 16,
   "metadata": {
    "id": "pCTIa5SDuWgk"
   },
   "outputs": [],
   "source": [
    "# Calculo dos deslocamentos\n",
    "desloc=np.linalg.solve(Kg,Fg)"
   ]
  },
  {
   "cell_type": "code",
   "execution_count": 17,
   "metadata": {
    "id": "vDwV5LkIuWgl"
   },
   "outputs": [],
   "source": [
    "# Tensão nos elementos\n",
    "f_el=np.zeros((n_el,4))\n",
    "Smax = np.zeros((n_el,1))\n",
    "for el in range(n_el):\n",
    "    #calculo do comprimento do elemento el\n",
    "    no1=conec[el,2]\n",
    "    no2=conec[el,3]\n",
    "    #L=abs(x(no2)-x(no1))\n",
    "    L = np.sqrt((x[no2] - x[no1])**2)\n",
    "    #Propriedades\n",
    "    A = secoes[conec[el,1],1]\n",
    "    E = secoes[conec[el,1],2]\n",
    "    Iz = secoes[conec[el,1],3]\n",
    "    cc = secoes[conec[el,1],4]\n",
    "    # Construo da matriz de rigidez em coordenadas locais\n",
    "    k2=12*E*Iz/L**3\n",
    "    k3=6*E*Iz/L**2\n",
    "    k4=4*E*Iz/L\n",
    "    k5=k4/2\n",
    "    ke=np.array([[k2, k3, -k2, k3],\n",
    "                [ k3, k4, -k3, k5],\n",
    "                [-k2,-k3,  k2,-k3],\n",
    "                [ k3, k5, -k3, k4]])\n",
    "\n",
    "    km=np.array([[13*L*cf/35, 11*L**2*cf/210,  9*L*cf/70,   -13*L**2*cf/420],\n",
    "                [ 11*L**2*cf/210, L**3*cf/105, 13*L**2*cf/420, -L**3*cf/140],\n",
    "                [9*L*cf/70,    13*L**2*cf/420, 13*L*cf/35,  -11*L**2*cf/210],\n",
    "                [-13*L**2*cf/420, -L**3*cf/140, -11*L**2*cf/210, L**3*cf/105]])\n",
    "    kg=ke+km\n",
    "   #pega os valores dos deslocamentos dos nós do elemento \"el\"\n",
    "    u1 = desloc[no1*2]\n",
    "    u2 = desloc[no1*2+1]\n",
    "    u3 = desloc[no2*2]\n",
    "    u4 = desloc[no2*2+1]\n",
    "    ue=np.array([u1, u2, u3, u4])\n",
    "\n",
    "    # Cálculo da tensão\n",
    "    Smax[el]=0\n"
   ]
  },
  {
   "cell_type": "code",
   "execution_count": 18,
   "metadata": {
    "colab": {
     "base_uri": "https://localhost:8080/",
     "height": 431
    },
    "id": "3cz3pcBSvVuT",
    "outputId": "ac14c198-fdaf-4d14-b782-74a4f87a9c84"
   },
   "outputs": [
    {
     "data": {
      "image/png": "[encoded data removed]",
      "text/plain": [
       "<Figure size 700x400 with 1 Axes>"
      ]
     },
     "metadata": {},
     "output_type": "display_data"
    }
   ],
   "source": [
    "# Plotagem dos deslocamentos\n",
    "# Definir vetor x contendo pontos no domínio da viga\n",
    "#xx = np.linspace(0, 3, 100)\n",
    "#E,A,q0,L,s0=200e9,50e-6,10e3,3,100e6\n",
    "# Plotagem da função u: solução analítica\n",
    "#plt.plot(xx, (-q0*xx**3/(6*A*E) + xx*(2*A*s0 + L**2*q0)/(2*A*E)), label='solução analítica')\n",
    "# Plotagem da função u: aproximação por MEF\n",
    "\n",
    "plt.figure(figsize = (7, 4))\n",
    "for elm in range(n_el):\n",
    "\n",
    "    no1=conec[elm,2]\n",
    "    no2=conec[elm,3]\n",
    "\n",
    "    L_e=abs(x[no2] - x[no1])\n",
    "\n",
    "    u1 = desloc[2*no1]\n",
    "    u2 = desloc[2*no1+1]\n",
    "    u3 = desloc[2*no2]\n",
    "    u4 = desloc[2*no2+1]\n",
    "\n",
    "    u_e=np.array([u1,  u2, u3, u4])\n",
    "    npontos=30\n",
    "\n",
    "    xe = np.linspace(-L_e/2, L_e/2, npontos)\n",
    "    auxue=np.zeros(npontos)\n",
    "\n",
    "    for ii in range(npontos):\n",
    "\n",
    "        N = Matrix([[1/2 - 3*xe[ii]/(2*L_e) + 2*xe[ii]**3/L_e**3, L_e/8 - xe[ii]/4 - xe[ii]**2/(2*L_e) + xe[ii]**3/L_e**2, 1/2 + 3*xe[ii]/(2*L_e) - 2*xe[ii]**3/L_e**3, -L_e/8 - xe[ii]/4 + xe[ii]**2/(2*L_e) + xe[ii]**3/L_e**2]])\n",
    "        \n",
    "        auxue[ii]=np.dot(N,u_e)\n",
    "\n",
    "    auxxe=(elm)*L_e+L_e/2+xe\n",
    "\n",
    "    if elm==n_el-1:\n",
    "\n",
    "        plt.plot(auxxe,auxue,color='red', label='aproximação MEF')\n",
    "\n",
    "    else:\n",
    "\n",
    "        plt.plot(auxxe,auxue,color='red')\n",
    "\n",
    "plt.xlabel('x (m)', weight = 'bold')\n",
    "plt.ylabel('μ (mm)', weight = 'bold')\n",
    "plt.title('Diagrama de Deformações \\nViga Apoiada', fontsize = 12, weight = 'bold')\n",
    "\n",
    "ax = plt.gca()\n",
    "ax.spines['top'].set_visible(False)\n",
    "ax.spines['right'].set_visible(False)\n",
    "ax.spines['bottom'].set_color('black')\n",
    "ax.spines['left'].set_visible(True)\n",
    "\n",
    "plt.legend(['Aproximação Linear'])\n",
    "plt.grid(True)\n",
    "plt.show()"
   ]
  },
  {
   "cell_type": "code",
   "execution_count": null,
   "metadata": {},
   "outputs": [],
   "source": []
  }
 ],
 "metadata": {
  "colab": {
   "provenance": []
  },
  "kernelspec": {
   "display_name": "Python 3 (ipykernel)",
   "language": "python",
   "name": "python3"
  },
  "language_info": {
   "codemirror_mode": {
    "name": "ipython",
    "version": 3
   },
   "file_extension": ".py",
   "mimetype": "text/x-python",
   "name": "python",
   "nbconvert_exporter": "python",
   "pygments_lexer": "ipython3",
   "version": "3.11.1"
  }
 },
 "nbformat": 4,
 "nbformat_minor": 1
}
