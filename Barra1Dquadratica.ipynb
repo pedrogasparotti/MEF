{
 "cells": [
  {
   "cell_type": "markdown",
   "metadata": {},
   "source": [
    "## MEF04. Código de elementos finitos: Barra 1D elemento quadrático\n",
    "\n"
   ]
  },
  {
   "cell_type": "markdown",
   "metadata": {},
   "source": [
    "![title](porticoex0.png)"
   ]
  },
  {
   "cell_type": "markdown",
   "metadata": {},
   "source": [
    "Começamos então definindo o número de nós (n_nos) e número de elementos (n_el) da estrutura, assim como o número de cada nós e suas coordenadas no eixo x:"
   ]
  },
  {
   "cell_type": "code",
   "execution_count": 16,
   "metadata": {},
   "outputs": [],
   "source": [
    "import numpy as np\n",
    "from sympy import *\n",
    "from pylab import *\n",
    "import matplotlib.pyplot as plt\n",
    "\n",
    "#Dados do problema \"Pórticos: EXEMPLO 02\" da lista\n",
    "n_nos = 3 #Número de nós\n",
    "n_el = 2 #Número de elementos\n",
    "# número de cada nó e coordenadas x e y dos mesmos\n",
    "no = [0,     1,      2]\n",
    "x  = [0,   1.5,  3]"
   ]
  },
  {
   "cell_type": "code",
   "execution_count": 17,
   "metadata": {},
   "outputs": [
    {
     "data": {
      "text/html": [
       "<script>\n",
       "code_show=true; \n",
       "function code_toggle() {\n",
       "    if (code_show){\n",
       "        $('div.cell.code_cell.rendered.selected div.input').hide();\n",
       "    } else {\n",
       "        $('div.cell.code_cell.rendered.selected div.input').show();\n",
       "    }\n",
       "    code_show = !code_show\n",
       "} \n",
       "$( document ).ready(code_toggle);\n",
       "</script>\n",
       "To show/hide this cell's raw code input, click <a href=\"javascript:code_toggle()\">here</a>."
      ],
      "text/plain": [
       "<IPython.core.display.HTML object>"
      ]
     },
     "metadata": {},
     "output_type": "display_data"
    },
    {
     "data": {
      "image/png": "[encoded data removed]",
      "text/plain": [
       "<Figure size 640x480 with 1 Axes>"
      ]
     },
     "metadata": {},
     "output_type": "display_data"
    }
   ],
   "source": [
    "###############     Código apenas para geração da imagem    ##################\n",
    "from IPython.display import display, Math, HTML\n",
    "y = np.zeros(n_nos)\n",
    "tag = HTML('''<script>\n",
    "code_show=true; \n",
    "function code_toggle() {\n",
    "    if (code_show){\n",
    "        $('div.cell.code_cell.rendered.selected div.input').hide();\n",
    "    } else {\n",
    "        $('div.cell.code_cell.rendered.selected div.input').show();\n",
    "    }\n",
    "    code_show = !code_show\n",
    "} \n",
    "$( document ).ready(code_toggle);\n",
    "</script>\n",
    "To show/hide this cell's raw code input, click <a href=\"javascript:code_toggle()\">here</a>.''')\n",
    "display(tag)\n",
    "\n",
    "#Código apenas para geração da imagem\n",
    "fig = plt.figure()\n",
    "ax = fig.add_subplot(111)\n",
    "\n",
    "lines = plt.plot(x,y,'ro')\n",
    "for i in no:\n",
    "    plt.annotate(str(no[i]), xy=(x[i], y[i]), xytext=(x[i], y[i]))\n",
    "\n",
    "title('Coordenadas da estrutura')\n",
    "grid()\n",
    "\n",
    "show()"
   ]
  },
  {
   "cell_type": "markdown",
   "metadata": {},
   "source": [
    "O próximo passo é a definição da matriz de conectividade da estrutura [conec], responsável pela definição dos elementos e suas propriedades. Essa matriz possui uma linha para cada elemento, sendo que cada coluna indica, respectivamente: número do elemento, número da seção transversal do mesmo (que define suas propriedades), primeiro nó e segundo nó do elemento. \n",
    "\n",
    "As propriedades são definidas na matriz [secoes], que possui uma linha para cada seção distinta na estrutura. A primeira coluna indica o número da seção, a segunda a área da seção transversal, e a terceira o módulo de elasticidade. Vale ressaltar que essas propriedades são necessárias para treliças planas."
   ]
  },
  {
   "cell_type": "code",
   "execution_count": 26,
   "metadata": {},
   "outputs": [],
   "source": [
    "# Matriz de conectividade: [elemento, Número da seção, primeiro nó, segundo nó, terceiro nó]\n",
    "conec = np.array([[0,   0,   0,   1,   2],\n",
    "                  [1,   0,   1,   2,   3]])\n",
    "\n",
    "n_sec=1 # Número de seções distintas presentes na estrutura\n",
    "\n",
    "# Matriz de Seções: [número da seção, área, módulo de elasticidade]\n",
    "secoes = np.array([[0, 50e-6, 200e9]])"
   ]
  },
  {
   "cell_type": "code",
   "execution_count": 41,
   "metadata": {},
   "outputs": [
    {
     "data": {
      "text/html": [
       "<script>\n",
       "code_show=true; \n",
       "function code_toggle() {\n",
       "    if (code_show){\n",
       "        $('div.cell.code_cell.rendered.selected div.input').hide();\n",
       "    } else {\n",
       "        $('div.cell.code_cell.rendered.selected div.input').show();\n",
       "    }\n",
       "    code_show = !code_show\n",
       "} \n",
       "$( document ).ready(code_toggle);\n",
       "</script>\n",
       "To show/hide this cell's raw code input, click <a href=\"javascript:code_toggle()\">here</a>."
      ],
      "text/plain": [
       "<IPython.core.display.HTML object>"
      ]
     },
     "metadata": {},
     "output_type": "display_data"
    },
    {
     "ename": "IndexError",
     "evalue": "list index out of range",
     "output_type": "error",
     "traceback": [
      "\u001b[1;31m---------------------------------------------------------------------------\u001b[0m",
      "\u001b[1;31mIndexError\u001b[0m                                Traceback (most recent call last)",
      "\u001b[1;32mc:\\pyDocs\\gitRepos\\MEF\\MEF\\Barra1Dquadratica.ipynb Cell 10\u001b[0m line \u001b[0;36m2\n\u001b[0;32m     <a href='vscode-notebook-cell:/c%3A/pyDocs/gitRepos/MEF/MEF/Barra1Dquadratica.ipynb#X10sZmlsZQ%3D%3D?line=21'>22</a>\u001b[0m     plt\u001b[39m.\u001b[39mannotate(\u001b[39mstr\u001b[39m(no[i]), xy\u001b[39m=\u001b[39m(x[i], y[i]), xytext\u001b[39m=\u001b[39m(x[i], y[i]))\n\u001b[0;32m     <a href='vscode-notebook-cell:/c%3A/pyDocs/gitRepos/MEF/MEF/Barra1Dquadratica.ipynb#X10sZmlsZQ%3D%3D?line=23'>24</a>\u001b[0m \u001b[39mfor\u001b[39;00m i \u001b[39min\u001b[39;00m \u001b[39mrange\u001b[39m(n_el):\n\u001b[1;32m---> <a href='vscode-notebook-cell:/c%3A/pyDocs/gitRepos/MEF/MEF/Barra1Dquadratica.ipynb#X10sZmlsZQ%3D%3D?line=24'>25</a>\u001b[0m     plt\u001b[39m.\u001b[39mplot([x[conec[i,\u001b[39m2\u001b[39m]], x[conec[i,\u001b[39m4\u001b[39;49m]]],[y[conec[i,\u001b[39m2\u001b[39m]], y[conec[i,\u001b[39m3\u001b[39m]]],\u001b[39m'\u001b[39m\u001b[39mk\u001b[39m\u001b[39m'\u001b[39m)\n\u001b[0;32m     <a href='vscode-notebook-cell:/c%3A/pyDocs/gitRepos/MEF/MEF/Barra1Dquadratica.ipynb#X10sZmlsZQ%3D%3D?line=25'>26</a>\u001b[0m     plt\u001b[39m.\u001b[39mannotate(\u001b[39m'\u001b[39m\u001b[39mElemento \u001b[39m\u001b[39m'\u001b[39m \u001b[39m+\u001b[39m\u001b[39mstr\u001b[39m(i)\u001b[39m+\u001b[39m\u001b[39m'\u001b[39m\u001b[39m=>secao:\u001b[39m\u001b[39m'\u001b[39m\u001b[39m+\u001b[39m\u001b[39mstr\u001b[39m(conec[i,\u001b[39m1\u001b[39m]), xy\u001b[39m=\u001b[39m((x[conec[i,\u001b[39m2\u001b[39m]]\u001b[39m+\u001b[39mx[conec[i,\u001b[39m3\u001b[39m]])\u001b[39m/\u001b[39m\u001b[39m2\u001b[39m, (y[conec[i,\u001b[39m2\u001b[39m]]\u001b[39m+\u001b[39my[conec[i,\u001b[39m3\u001b[39m]])\u001b[39m/\u001b[39m\u001b[39m2\u001b[39m),\n\u001b[0;32m     <a href='vscode-notebook-cell:/c%3A/pyDocs/gitRepos/MEF/MEF/Barra1Dquadratica.ipynb#X10sZmlsZQ%3D%3D?line=26'>27</a>\u001b[0m                  xytext\u001b[39m=\u001b[39m((x[conec[i,\u001b[39m2\u001b[39m]]\u001b[39m+\u001b[39mx[conec[i,\u001b[39m3\u001b[39m]])\u001b[39m/\u001b[39m\u001b[39m2\u001b[39m, (y[conec[i,\u001b[39m2\u001b[39m]]\u001b[39m+\u001b[39my[conec[i,\u001b[39m3\u001b[39m]])\u001b[39m/\u001b[39m\u001b[39m2\u001b[39m),color\u001b[39m=\u001b[39m\u001b[39m'\u001b[39m\u001b[39mr\u001b[39m\u001b[39m'\u001b[39m)\n\u001b[0;32m     <a href='vscode-notebook-cell:/c%3A/pyDocs/gitRepos/MEF/MEF/Barra1Dquadratica.ipynb#X10sZmlsZQ%3D%3D?line=27'>28</a>\u001b[0m title(\u001b[39m'\u001b[39m\u001b[39mElementos da estrutura\u001b[39m\u001b[39m'\u001b[39m)\n",
      "\u001b[1;31mIndexError\u001b[0m: list index out of range"
     ]
    },
    {
     "data": {
      "image/png": "[encoded data removed]",
      "text/plain": [
       "<Figure size 640x480 with 1 Axes>"
      ]
     },
     "metadata": {},
     "output_type": "display_data"
    }
   ],
   "source": [
    "tag = HTML('''<script>\n",
    "code_show=true; \n",
    "function code_toggle() {\n",
    "    if (code_show){\n",
    "        $('div.cell.code_cell.rendered.selected div.input').hide();\n",
    "    } else {\n",
    "        $('div.cell.code_cell.rendered.selected div.input').show();\n",
    "    }\n",
    "    code_show = !code_show\n",
    "} \n",
    "$( document ).ready(code_toggle);\n",
    "</script>\n",
    "To show/hide this cell's raw code input, click <a href=\"javascript:code_toggle()\">here</a>.''')\n",
    "display(tag)\n",
    "\n",
    "#Apenas para plotagem da figura\n",
    "fig = plt.figure()\n",
    "ax = fig.add_subplot(111)\n",
    "\n",
    "lines = plt.plot(x,y,'ro')\n",
    "for i in no:\n",
    "    plt.annotate(str(no[i]), xy=(x[i], y[i]), xytext=(x[i], y[i]))\n",
    "\n",
    "for i in range(n_el):\n",
    "    plt.plot([x[conec[i,2]], x[conec[i,4]]],[y[conec[i,2]], y[conec[i,3]]],'k')\n",
    "    plt.annotate('Elemento ' +str(i)+'=>secao:'+str(conec[i,1]), xy=((x[conec[i,2]]+x[conec[i,3]])/2, (y[conec[i,2]]+y[conec[i,3]])/2),\n",
    "                 xytext=((x[conec[i,2]]+x[conec[i,3]])/2, (y[conec[i,2]]+y[conec[i,3]])/2),color='r')\n",
    "title('Elementos da estrutura')\n",
    "grid()\n",
    "\n",
    "show()"
   ]
  },
  {
   "cell_type": "markdown",
   "metadata": {},
   "source": [
    "O próximo passo é definir o carregamento. A seguir tem-se o caso das forças nodais, onde a matriz  [forcas]  é utilizada para definir as informações necessárias. Para cada nó em que ao menos uma força nodal atua, tem-se uma linha nessa matriz. A primeira coluna refere-se ao nó carregado, a segunda ao carregamento na direção x."
   ]
  },
  {
   "cell_type": "code",
   "execution_count": 29,
   "metadata": {},
   "outputs": [
    {
     "name": "stdout",
     "output_type": "stream",
     "text": [
      "[[3.e+00 5.e+03]]\n"
     ]
    }
   ],
   "source": [
    "# Carregamentos nodais (Fzão da estrutura)\n",
    "n_forcas=1 #Número de nós na qual atuam forças\n",
    "#Matriz de forças [nó (primeiro nó é o nó zero e não 1), força em x, força em y]\n",
    "forcas=np.matrix([3,   5e3])\n",
    "print(forcas)"
   ]
  },
  {
   "cell_type": "code",
   "execution_count": 30,
   "metadata": {
    "scrolled": true
   },
   "outputs": [
    {
     "data": {
      "text/html": [
       "<script>\n",
       "code_show=true; \n",
       "function code_toggle() {\n",
       "    if (code_show){\n",
       "        $('div.cell.code_cell.rendered.selected div.input').hide();\n",
       "    } else {\n",
       "        $('div.cell.code_cell.rendered.selected div.input').show();\n",
       "    }\n",
       "    code_show = !code_show\n",
       "} \n",
       "$( document ).ready(code_toggle);\n",
       "</script>\n",
       "To show/hide this cell's raw code input, click <a href=\"javascript:code_toggle()\">here</a>."
      ],
      "text/plain": [
       "<IPython.core.display.HTML object>"
      ]
     },
     "metadata": {},
     "output_type": "display_data"
    },
    {
     "ename": "IndexError",
     "evalue": "list index out of range",
     "output_type": "error",
     "traceback": [
      "\u001b[1;31m---------------------------------------------------------------------------\u001b[0m",
      "\u001b[1;31mIndexError\u001b[0m                                Traceback (most recent call last)",
      "\u001b[1;32mc:\\pyDocs\\gitRepos\\MEF\\MEF\\Barra1Dquadratica.ipynb Cell 12\u001b[0m line \u001b[0;36m3\n\u001b[0;32m     <a href='vscode-notebook-cell:/c%3A/pyDocs/gitRepos/MEF/MEF/Barra1Dquadratica.ipynb#X13sZmlsZQ%3D%3D?line=27'>28</a>\u001b[0m \u001b[39mfor\u001b[39;00m i \u001b[39min\u001b[39;00m forcas[:,\u001b[39m0\u001b[39m]:\n\u001b[0;32m     <a href='vscode-notebook-cell:/c%3A/pyDocs/gitRepos/MEF/MEF/Barra1Dquadratica.ipynb#X13sZmlsZQ%3D%3D?line=28'>29</a>\u001b[0m     \u001b[39mif\u001b[39;00m \u001b[39mint\u001b[39m(forcas[j,\u001b[39m1\u001b[39m]) \u001b[39m!=\u001b[39m \u001b[39m0\u001b[39m:\n\u001b[1;32m---> <a href='vscode-notebook-cell:/c%3A/pyDocs/gitRepos/MEF/MEF/Barra1Dquadratica.ipynb#X13sZmlsZQ%3D%3D?line=29'>30</a>\u001b[0m         arrow( x[\u001b[39mint\u001b[39;49m(i)]\u001b[39m-\u001b[39mnp\u001b[39m.\u001b[39msign(forcas[j,\u001b[39m1\u001b[39m])\u001b[39m*\u001b[39m\u001b[39m0.25\u001b[39m\u001b[39m*\u001b[39ml, y[\u001b[39mint\u001b[39m(i)],np\u001b[39m.\u001b[39msign(forcas[j,\u001b[39m1\u001b[39m])\u001b[39m*\u001b[39m\u001b[39m0.25\u001b[39m\u001b[39m*\u001b[39ml,\u001b[39m0\u001b[39m,\n\u001b[0;32m     <a href='vscode-notebook-cell:/c%3A/pyDocs/gitRepos/MEF/MEF/Barra1Dquadratica.ipynb#X13sZmlsZQ%3D%3D?line=30'>31</a>\u001b[0m               length_includes_head \u001b[39m=\u001b[39m \u001b[39mTrue\u001b[39;00m, head_width \u001b[39m=\u001b[39m l\u001b[39m*\u001b[39m\u001b[39m0.05\u001b[39m )\n\u001b[0;32m     <a href='vscode-notebook-cell:/c%3A/pyDocs/gitRepos/MEF/MEF/Barra1Dquadratica.ipynb#X13sZmlsZQ%3D%3D?line=31'>32</a>\u001b[0m         plt\u001b[39m.\u001b[39mannotate(\u001b[39m'\u001b[39m\u001b[39mFx=\u001b[39m\u001b[39m'\u001b[39m\u001b[39m+\u001b[39m\u001b[39mstr\u001b[39m(forcas[j,\u001b[39m1\u001b[39m]), xy\u001b[39m=\u001b[39m(x[\u001b[39mint\u001b[39m(i)]\u001b[39m-\u001b[39mnp\u001b[39m.\u001b[39msign(forcas[j,\u001b[39m1\u001b[39m])\u001b[39m*\u001b[39m\u001b[39m0.25\u001b[39m\u001b[39m*\u001b[39ml, y[\u001b[39mint\u001b[39m(i)]),\n\u001b[0;32m     <a href='vscode-notebook-cell:/c%3A/pyDocs/gitRepos/MEF/MEF/Barra1Dquadratica.ipynb#X13sZmlsZQ%3D%3D?line=32'>33</a>\u001b[0m                  xytext\u001b[39m=\u001b[39m(x[\u001b[39mint\u001b[39m(i)]\u001b[39m-\u001b[39mnp\u001b[39m.\u001b[39msign(forcas[j,\u001b[39m1\u001b[39m])\u001b[39m*\u001b[39m\u001b[39m0.25\u001b[39m\u001b[39m*\u001b[39ml, y[\u001b[39mint\u001b[39m(i)]),color\u001b[39m=\u001b[39m\u001b[39m'\u001b[39m\u001b[39mr\u001b[39m\u001b[39m'\u001b[39m)\n\u001b[0;32m     <a href='vscode-notebook-cell:/c%3A/pyDocs/gitRepos/MEF/MEF/Barra1Dquadratica.ipynb#X13sZmlsZQ%3D%3D?line=33'>34</a>\u001b[0m     \u001b[39m#if int(forcas[j,2]) != 0:\u001b[39;00m\n\u001b[0;32m     <a href='vscode-notebook-cell:/c%3A/pyDocs/gitRepos/MEF/MEF/Barra1Dquadratica.ipynb#X13sZmlsZQ%3D%3D?line=34'>35</a>\u001b[0m      \u001b[39m##        length_includes_head = True, head_width = l*0.05 )\u001b[39;00m\n\u001b[0;32m     <a href='vscode-notebook-cell:/c%3A/pyDocs/gitRepos/MEF/MEF/Barra1Dquadratica.ipynb#X13sZmlsZQ%3D%3D?line=35'>36</a>\u001b[0m        \u001b[39m# plt.annotate('Fy='+str(forcas[j,2]), xy=(x[int(i)], y[int(i)]-np.sign(forcas[j,2])*0.25*l),\u001b[39;00m\n\u001b[0;32m     <a href='vscode-notebook-cell:/c%3A/pyDocs/gitRepos/MEF/MEF/Barra1Dquadratica.ipynb#X13sZmlsZQ%3D%3D?line=36'>37</a>\u001b[0m         \u001b[39m#         xytext=(x[int(i)], y[int(i)]-np.sign(forcas[j,2])*0.25*l),color='r')\u001b[39;00m\n",
      "\u001b[1;31mIndexError\u001b[0m: list index out of range"
     ]
    },
    {
     "data": {
      "image/png": "[encoded data removed]",
      "text/plain": [
       "<Figure size 640x480 with 1 Axes>"
      ]
     },
     "metadata": {},
     "output_type": "display_data"
    }
   ],
   "source": [
    "tag = HTML('''<script>\n",
    "code_show=true; \n",
    "function code_toggle() {\n",
    "    if (code_show){\n",
    "        $('div.cell.code_cell.rendered.selected div.input').hide();\n",
    "    } else {\n",
    "        $('div.cell.code_cell.rendered.selected div.input').show();\n",
    "    }\n",
    "    code_show = !code_show\n",
    "} \n",
    "$( document ).ready(code_toggle);\n",
    "</script>\n",
    "To show/hide this cell's raw code input, click <a href=\"javascript:code_toggle()\">here</a>.''')\n",
    "display(tag)\n",
    "\n",
    "from pylab import *\n",
    "\n",
    "#Apenas para plotagem da figura\n",
    "fig = plt.figure()\n",
    "ax = fig.add_subplot(111)\n",
    "\n",
    "lines = plt.plot(x,y,'ro')\n",
    "for i in no:\n",
    "    plt.annotate(str(no[i-1]), xy=(x[i-1], 0), xytext=(x[i-1], y[i-1]))\n",
    "l = max(abs(x[1]-x[0]),abs(0))\n",
    "j = 0\n",
    "if n_forcas != 0:\n",
    "    for i in forcas[:,0]:\n",
    "        if int(forcas[j,1]) != 0:\n",
    "            arrow( x[int(i)]-np.sign(forcas[j,1])*0.25*l, y[int(i)],np.sign(forcas[j,1])*0.25*l,0,\n",
    "                  length_includes_head = True, head_width = l*0.05 )\n",
    "            plt.annotate('Fx='+str(forcas[j,1]), xy=(x[int(i)]-np.sign(forcas[j,1])*0.25*l, y[int(i)]),\n",
    "                     xytext=(x[int(i)]-np.sign(forcas[j,1])*0.25*l, y[int(i)]),color='r')\n",
    "        #if int(forcas[j,2]) != 0:\n",
    "         ##        length_includes_head = True, head_width = l*0.05 )\n",
    "           # plt.annotate('Fy='+str(forcas[j,2]), xy=(x[int(i)], y[int(i)]-np.sign(forcas[j,2])*0.25*l),\n",
    "            #         xytext=(x[int(i)], y[int(i)]-np.sign(forcas[j,2])*0.25*l),color='r')\n",
    "\n",
    "\n",
    "        j = j+1\n",
    "\n",
    "for i in range(n_el):\n",
    "    plt.plot([x[conec[i,2]], x[conec[i,4]]],[y[conec[i,2]], y[conec[i,3]]],'k')    \n",
    "\n",
    "left, right = xlim()\n",
    "lower, upper = ylim()\n",
    "xlim((left-0.25*l,right+0.25*l))\n",
    "ylim((lower-0.25*l,upper+0.25*l))\n",
    "title(u\"Forças nodais\")\n",
    "grid()\n",
    "\n",
    "show()"
   ]
  },
  {
   "cell_type": "code",
   "execution_count": 31,
   "metadata": {},
   "outputs": [],
   "source": [
    "# Carregamentos equivalentes (Feq da estrutura)\n",
    "n_eq=2 # número de elementos que contem carregamentos equivalentes\n",
    "# Matriz de carregamento equivalente = [elemento, tipo de carregamento, intensidade, posição (para o caso de carregamento concentrado entre nós)]\n",
    "w_eq=np.array([[0, 1, 10e3],\n",
    "               [1, 1, 10e3]])"
   ]
  },
  {
   "cell_type": "code",
   "execution_count": 32,
   "metadata": {},
   "outputs": [
    {
     "data": {
      "text/html": [
       "<script>\n",
       "code_show=true; \n",
       "function code_toggle() {\n",
       "    if (code_show){\n",
       "        $('div.cell.code_cell.rendered.selected div.input').hide();\n",
       "    } else {\n",
       "        $('div.cell.code_cell.rendered.selected div.input').show();\n",
       "    }\n",
       "    code_show = !code_show\n",
       "} \n",
       "$( document ).ready(code_toggle);\n",
       "</script>\n",
       "To show/hide this cell's raw code input, click <a href=\"javascript:code_toggle()\">here</a>."
      ],
      "text/plain": [
       "<IPython.core.display.HTML object>"
      ]
     },
     "metadata": {},
     "output_type": "display_data"
    },
    {
     "ename": "IndexError",
     "evalue": "list index out of range",
     "output_type": "error",
     "traceback": [
      "\u001b[1;31m---------------------------------------------------------------------------\u001b[0m",
      "\u001b[1;31mIndexError\u001b[0m                                Traceback (most recent call last)",
      "\u001b[1;32mc:\\pyDocs\\gitRepos\\MEF\\MEF\\Barra1Dquadratica.ipynb Cell 14\u001b[0m line \u001b[0;36m2\n\u001b[0;32m     <a href='vscode-notebook-cell:/c%3A/pyDocs/gitRepos/MEF/MEF/Barra1Dquadratica.ipynb#X15sZmlsZQ%3D%3D?line=23'>24</a>\u001b[0m     plt\u001b[39m.\u001b[39mannotate(\u001b[39mstr\u001b[39m(no[i\u001b[39m-\u001b[39m\u001b[39m1\u001b[39m]), xy\u001b[39m=\u001b[39m(x[i\u001b[39m-\u001b[39m\u001b[39m1\u001b[39m], \u001b[39m0\u001b[39m), xytext\u001b[39m=\u001b[39m(x[i\u001b[39m-\u001b[39m\u001b[39m1\u001b[39m], \u001b[39m0\u001b[39m))\n\u001b[0;32m     <a href='vscode-notebook-cell:/c%3A/pyDocs/gitRepos/MEF/MEF/Barra1Dquadratica.ipynb#X15sZmlsZQ%3D%3D?line=24'>25</a>\u001b[0m \u001b[39mfor\u001b[39;00m i \u001b[39min\u001b[39;00m \u001b[39mrange\u001b[39m(n_el):\n\u001b[1;32m---> <a href='vscode-notebook-cell:/c%3A/pyDocs/gitRepos/MEF/MEF/Barra1Dquadratica.ipynb#X15sZmlsZQ%3D%3D?line=25'>26</a>\u001b[0m     plt\u001b[39m.\u001b[39mplot([x[conec[i,\u001b[39m2\u001b[39m]], x[conec[i,\u001b[39m4\u001b[39;49m]]],[\u001b[39m0\u001b[39m, \u001b[39m0\u001b[39m],\u001b[39m'\u001b[39m\u001b[39mk\u001b[39m\u001b[39m'\u001b[39m)\n\u001b[0;32m     <a href='vscode-notebook-cell:/c%3A/pyDocs/gitRepos/MEF/MEF/Barra1Dquadratica.ipynb#X15sZmlsZQ%3D%3D?line=27'>28</a>\u001b[0m \u001b[39mif\u001b[39;00m n_eq \u001b[39m!=\u001b[39m \u001b[39m0\u001b[39m:\n\u001b[0;32m     <a href='vscode-notebook-cell:/c%3A/pyDocs/gitRepos/MEF/MEF/Barra1Dquadratica.ipynb#X15sZmlsZQ%3D%3D?line=28'>29</a>\u001b[0m     j \u001b[39m=\u001b[39m \u001b[39m0\u001b[39m\n",
      "\u001b[1;31mIndexError\u001b[0m: list index out of range"
     ]
    },
    {
     "data": {
      "image/png": "[encoded data removed]",
      "text/plain": [
       "<Figure size 640x480 with 1 Axes>"
      ]
     },
     "metadata": {},
     "output_type": "display_data"
    }
   ],
   "source": [
    "tag = HTML('''<script>\n",
    "code_show=true; \n",
    "function code_toggle() {\n",
    "    if (code_show){\n",
    "        $('div.cell.code_cell.rendered.selected div.input').hide();\n",
    "    } else {\n",
    "        $('div.cell.code_cell.rendered.selected div.input').show();\n",
    "    }\n",
    "    code_show = !code_show\n",
    "} \n",
    "$( document ).ready(code_toggle);\n",
    "</script>\n",
    "To show/hide this cell's raw code input, click <a href=\"javascript:code_toggle()\">here</a>.''')\n",
    "display(tag)\n",
    "\n",
    "#Apenas para plotagem da figura\n",
    "import matplotlib.patches as mpatches\n",
    "\n",
    "fig = plt.figure()\n",
    "ax = fig.add_subplot(111)\n",
    "\n",
    "lines = plt.plot(x,y,'ro')\n",
    "for i in no:\n",
    "    plt.annotate(str(no[i-1]), xy=(x[i-1], 0), xytext=(x[i-1], 0))\n",
    "for i in range(n_el):\n",
    "    plt.plot([x[conec[i,2]], x[conec[i,4]]],[0, 0],'k')\n",
    "    \n",
    "if n_eq != 0:\n",
    "    j = 0\n",
    "    for i in w_eq[:,0]:\n",
    "        if w_eq[j,1]==1:\n",
    "            fig1 = plt.plot([x[conec[int(i),2]], x[conec[int(i),4]]],[0,0],'r')\n",
    "        #elif w_eq[j,1]==2:\n",
    "        #    fig2 = plt.plot([x[conec[int(i),2]], x[conec[int(i),3]]],[y[conec[int(i),2]], y[conec[int(i),3]]],'b')\n",
    "        j = j + 1\n",
    "\n",
    "red_patch = mpatches.Patch(color='red', label=u'Elementos carregamento tipo 1')\n",
    "blue_patch = mpatches.Patch(color='blue', label=u'Elementos carregamento tipo 2')\n",
    "plt.legend(handles=[red_patch,blue_patch])\n",
    "\n",
    "\n",
    "    \n",
    "title(u'Elementos da estrutura')\n",
    "grid()\n",
    "\n",
    "show()"
   ]
  },
  {
   "cell_type": "markdown",
   "metadata": {},
   "source": [
    "Por fim, resta definir as condições de contorno do problema. Para isso, a matriz  [GDL_rest]   com número de linhas igual ao número de nós que contém pelo menos uma restrição (tipo de apoio) deve ser informada. Já para as colunas, a primeira indica o número do nó restringido e a segunda refere-se aos grau de liberdade em x desse nó. Caso apresente valor 1, isso indica que o respectivo GDL desse nó está restringido, caso seja zero, o GDL está liberado. Vale ressaltar que caso um nó não apresente restrições, ele não deve ser incluído na matriz."
   ]
  },
  {
   "cell_type": "code",
   "execution_count": 74,
   "metadata": {},
   "outputs": [],
   "source": [
    "# Apoios\n",
    "n_rest=1  #número de nós restringidos\n",
    "#Matriz de condições de contorno \n",
    "# [número do nó, restringido_x, restringido_y] (1 para restringido, e 0 para livre)\n",
    "GDL_rest=np.array([[0, 1 ]])  \n"
   ]
  },
  {
   "cell_type": "markdown",
   "metadata": {},
   "source": [
    "Essa matriz de condições de contorno indica que os seguintes nós e graus de liberdade estão restringidos: "
   ]
  },
  {
   "cell_type": "code",
   "execution_count": 75,
   "metadata": {},
   "outputs": [
    {
     "data": {
      "text/html": [
       "<script>\n",
       "code_show=true; \n",
       "function code_toggle() {\n",
       "    if (code_show){\n",
       "        $('div.cell.code_cell.rendered.selected div.input').hide();\n",
       "    } else {\n",
       "        $('div.cell.code_cell.rendered.selected div.input').show();\n",
       "    }\n",
       "    code_show = !code_show\n",
       "} \n",
       "$( document ).ready(code_toggle);\n",
       "</script>\n",
       "To show/hide this cell's raw code input, click <a href=\"javascript:code_toggle()\">here</a>."
      ],
      "text/plain": [
       "<IPython.core.display.HTML object>"
      ]
     },
     "metadata": {},
     "output_type": "display_data"
    },
    {
     "data": {
      "text/latex": [
       "$\\displaystyle \\begin{align}No0: x=fixo,\\\\\\end{align}$"
      ],
      "text/plain": [
       "<IPython.core.display.Math object>"
      ]
     },
     "metadata": {},
     "output_type": "display_data"
    }
   ],
   "source": [
    "tag = HTML('''<script>\n",
    "code_show=true; \n",
    "function code_toggle() {\n",
    "    if (code_show){\n",
    "        $('div.cell.code_cell.rendered.selected div.input').hide();\n",
    "    } else {\n",
    "        $('div.cell.code_cell.rendered.selected div.input').show();\n",
    "    }\n",
    "    code_show = !code_show\n",
    "} \n",
    "$( document ).ready(code_toggle);\n",
    "</script>\n",
    "To show/hide this cell's raw code input, click <a href=\"javascript:code_toggle()\">here</a>.''')\n",
    "display(tag)\n",
    "\n",
    "txt = r'\\begin{align}'\n",
    "j = 0\n",
    "for i in GDL_rest[:,0]:\n",
    "    txt = txt + 'No' + str(GDL_rest[j,0]) + ':'\n",
    "    if GDL_rest[j,1] == 1:\n",
    "        txt = txt+' x=fixo,'\n",
    "    txt = txt+'\\\\\\\\'\n",
    "    j = j + 1\n",
    "txt = txt + '\\end{align}'\n",
    "display(Math(txt))"
   ]
  },
  {
   "cell_type": "markdown",
   "metadata": {},
   "source": [
    "# Cálculo da estrutura\n",
    "\n",
    "Todas as informações necessárias para definição da estrutura já foram passadas. Assim, as próximas linhas de código são independentes do problema em questão.\n",
    "\n",
    "O cálculo da estrutura inicia pela matriz de rigidez da mesma, considerando a contribuição de um elemento por vez, conforme trecho de código a seguir:"
   ]
  },
  {
   "cell_type": "code",
   "execution_count": 76,
   "metadata": {},
   "outputs": [],
   "source": [
    "# CALCULO DA ESTRUTURA\n",
    "GDL=n_nos  #graus de liberdade da estrutura\n",
    "K=np.zeros((GDL,GDL)) #matriz rigidez global\n",
    "\n",
    "# Cálculo da matriz de cada elemento\n",
    "for el in range(n_el):\n",
    "    #calculo do comprimento do elemento el\n",
    "    no1=conec[el,2]\n",
    "    no2=conec[el,3]\n",
    "    no3=conec[el,4]\n",
    "    L = np.sqrt((x[no2] - x[no1])**2)\n",
    "    #Propriedades\n",
    "    A = secoes[conec[el,1],1]\n",
    "    E = secoes[conec[el,1],2]\n",
    "    # Matriz de transformação do elemento \"el\"\n",
    "    k=E*A/(6*L)\n",
    "    ke=k*np.array([[ 7,  -8,  1],\n",
    "                   [-8,  16, -8],\n",
    "                   [ 1,  -8,  7]])\n",
    "    kg=ke\n",
    "    #Determinando matriz de incidência cinemática:\n",
    "    b = np.zeros((3,GDL))\n",
    "    i=no1\n",
    "    j=no2\n",
    "    kk=no3\n",
    "    b[0,i] = 1\n",
    "    b[1,i+1] = 1\n",
    "    b[2,i+2] = 1\n",
    "    #Expandindo e convertendo a matriz do elemento para coordenadas globais:\n",
    "    Ki=np.dot(np.transpose(b),np.dot(kg,b))\n",
    "    #Somando contribuição do elemento para a matriz de rigidez global:\n",
    "    K = K + Ki"
   ]
  },
  {
   "cell_type": "markdown",
   "metadata": {},
   "source": [
    "A matriz de rigidez da estrutura $(\\textbf{K})$ é então:"
   ]
  },
  {
   "cell_type": "code",
   "execution_count": 77,
   "metadata": {},
   "outputs": [
    {
     "data": {
      "text/html": [
       "<script>\n",
       "code_show=true; \n",
       "function code_toggle() {\n",
       "    if (code_show){\n",
       "        $('div.cell.code_cell.rendered.selected div.input').hide();\n",
       "    } else {\n",
       "        $('div.cell.code_cell.rendered.selected div.input').show();\n",
       "    }\n",
       "    code_show = !code_show\n",
       "} \n",
       "$( document ).ready(code_toggle);\n",
       "</script>\n",
       "To show/hide this cell's raw code input, click <a href=\"javascript:code_toggle()\">here</a>."
      ],
      "text/plain": [
       "<IPython.core.display.HTML object>"
      ]
     },
     "metadata": {},
     "output_type": "display_data"
    },
    {
     "data": {
      "text/latex": [
       "$\\displaystyle \\begin{align}\\begin{bmatrix}15555555.56&-17777777.78&2222222.22&0.0&0.0\\\\-17777777.78&35555555.56&-17777777.78&0.0&0.0\\\\2222222.22&-17777777.78&31111111.11&-17777777.78&2222222.22\\\\0.0&0.0&-17777777.78&35555555.56&-17777777.78\\\\0.0&0.0&2222222.22&-17777777.78&15555555.56\\\\\\end{bmatrix}\\end{align}$"
      ],
      "text/plain": [
       "<IPython.core.display.Math object>"
      ]
     },
     "metadata": {},
     "output_type": "display_data"
    }
   ],
   "source": [
    "tag = HTML('''<script>\n",
    "code_show=true; \n",
    "function code_toggle() {\n",
    "    if (code_show){\n",
    "        $('div.cell.code_cell.rendered.selected div.input').hide();\n",
    "    } else {\n",
    "        $('div.cell.code_cell.rendered.selected div.input').show();\n",
    "    }\n",
    "    code_show = !code_show\n",
    "} \n",
    "$( document ).ready(code_toggle);\n",
    "</script>\n",
    "To show/hide this cell's raw code input, click <a href=\"javascript:code_toggle()\">here</a>.''')\n",
    "display(tag)\n",
    "\n",
    "txt = r'\\begin{align}\\begin{bmatrix}'\n",
    "for j in range(GDL):\n",
    "    for i in range(GDL-1):\n",
    "        txt+=str(np.round(K[j,i],2))+'&'\n",
    "    \n",
    "    txt+= str(np.round(K[j,GDL-1],2)) + '\\\\\\\\'\n",
    "txt+= '\\end{bmatrix}\\end{align}'\n",
    "display(Math(txt))"
   ]
  },
  {
   "cell_type": "markdown",
   "metadata": {},
   "source": [
    "A seguir tem-se o cálculo do vetor de forças:"
   ]
  },
  {
   "cell_type": "code",
   "execution_count": 78,
   "metadata": {},
   "outputs": [],
   "source": [
    "# Vetor de forcas Global\n",
    "F=np.zeros((GDL,1))\n",
    "for i in range(n_forcas):\n",
    "    F[int(forcas[i,0])]=forcas[i,1]\n"
   ]
  },
  {
   "cell_type": "code",
   "execution_count": 79,
   "metadata": {},
   "outputs": [
    {
     "data": {
      "text/html": [
       "<script>\n",
       "code_show=true; \n",
       "function code_toggle() {\n",
       "    if (code_show){\n",
       "        $('div.cell.code_cell.rendered.selected div.input').hide();\n",
       "    } else {\n",
       "        $('div.cell.code_cell.rendered.selected div.input').show();\n",
       "    }\n",
       "    code_show = !code_show\n",
       "} \n",
       "$( document ).ready(code_toggle);\n",
       "</script>\n",
       "To show/hide this cell's raw code input, click <a href=\"javascript:code_toggle()\">here</a>."
      ],
      "text/plain": [
       "<IPython.core.display.HTML object>"
      ]
     },
     "metadata": {},
     "output_type": "display_data"
    },
    {
     "data": {
      "text/latex": [
       "$\\displaystyle \\begin{align}\\quad\\boldsymbol F=\\begin{bmatrix}0.0\\\\0.0\\\\0.0\\\\0.0\\\\5000.0\\\\\\end{bmatrix}\\end{align}$"
      ],
      "text/plain": [
       "<IPython.core.display.Math object>"
      ]
     },
     "metadata": {},
     "output_type": "display_data"
    }
   ],
   "source": [
    "tag = HTML('''<script>\n",
    "code_show=true; \n",
    "function code_toggle() {\n",
    "    if (code_show){\n",
    "        $('div.cell.code_cell.rendered.selected div.input').hide();\n",
    "    } else {\n",
    "        $('div.cell.code_cell.rendered.selected div.input').show();\n",
    "    }\n",
    "    code_show = !code_show\n",
    "} \n",
    "$( document ).ready(code_toggle);\n",
    "</script>\n",
    "To show/hide this cell's raw code input, click <a href=\"javascript:code_toggle()\">here</a>.''')\n",
    "display(tag)\n",
    "\n",
    "txt = r'\\begin{align}\\quad\\boldsymbol F=\\begin{bmatrix}'\n",
    "for j in range(GDL):    \n",
    "    txt+= str(np.round(F[j,0],2)) + '\\\\\\\\'\n",
    "txt+= '\\end{bmatrix}\\end{align}'\n",
    "display(Math(txt))"
   ]
  },
  {
   "cell_type": "code",
   "execution_count": 80,
   "metadata": {},
   "outputs": [
    {
     "name": "stdout",
     "output_type": "stream",
     "text": [
      "[[    0.]\n",
      " [ 7500.]\n",
      " [ 7500.]\n",
      " [22500.]\n",
      " [ 7500.]]\n"
     ]
    }
   ],
   "source": [
    "# Construção do vetor de foras equivalentes\n",
    "Feq=np.zeros((GDL,1))\n",
    "for i in range(n_eq):\n",
    "    tipo=int(w_eq[i,1])   #tipo de força equivalente\n",
    "    el=int(w_eq[i,0])     #elemento onde está aplicada\n",
    "    if tipo==1: #Carregamento distribuído\n",
    "        f=np.zeros((3,1))\n",
    "        no1=conec[el,2]\n",
    "        no2=conec[el,3]\n",
    "        no3=conec[el,4]\n",
    "        L = np.sqrt((x[no2] - x[no1])**2)\n",
    "        w=w_eq[i,2]\n",
    "        qi=x[no1]*w\n",
    "        qj=x[no2]*w\n",
    "        qk=x[no3]*w\n",
    "        f[0]=4*qi + 2*qj -  qk\n",
    "        f[1]=2*qi +16*qj +2*qk\n",
    "        f[2]= -qi + 2*qj +4*qk\n",
    "        #feqTT=np.dot(np.transpose(T),f)\n",
    "        feq=L/15*f\n",
    "        Feq[no1]=Feq[no1]+feq[0]\n",
    "        Feq[no2]=Feq[no2]+feq[1]\n",
    "        Feq[no3]=Feq[no3]+feq[2]\n",
    "        \n",
    "print(Feq)"
   ]
  },
  {
   "cell_type": "markdown",
   "metadata": {},
   "source": [
    "Tem-se calculados até aqui a matriz de rigidez $(\\textbf{K})$, o vetor de forças nodais $(\\textbf{F})$ e o vetor de forças equivalentes $(\\textbf{F}_{eq})$. O próximo passo é aplicar as condições de contorno ao problema, de modo a possibilitar a obtenção de uma solução para o mesmo. Para isso, elimina-se as linhas de $\\textbf{K}$, $\\textbf{F}$ e $\\textbf{F}_{eq}$ e colunas de $\\textbf{K}$ referentes aos GDL restringidos. \n",
    "\n",
    "Uma maneira computacionalmente simples e eficiente de se fazer isso é zerar os termos das linhas e colunas que seriam eliminadas de $\\textbf{K}$, $\\textbf{F}$ e $\\textbf{F}_{eq}$ e atribuir o valor 1 aos termos da diagonal da matriz $\\textbf{K}$ que seriam eliminados. O trecho de código a seguir refere-se a esse passo:"
   ]
  },
  {
   "cell_type": "code",
   "execution_count": 81,
   "metadata": {},
   "outputs": [],
   "source": [
    "# guardamos os originais de K e F\n",
    "Kg=np.copy(K)\n",
    "#Kg[:] = K[:]\n",
    "\n",
    "Fg=F+Feq\n",
    "# Aplicar Restrições (condições de contorno)\n",
    "for k in range(n_rest):\n",
    "    # Verifica se há restrição na direção x\n",
    "    if GDL_rest[k,1]==1:\n",
    "        j=GDL_rest[k,0]\n",
    "        #Modificar Matriz de Rigidez\n",
    "        for i in range(GDL):\n",
    "            Kg[j,i]=0   #zera linha\n",
    "            Kg[i,j]=0   #zera coluna\n",
    "        Kg[j,j]=1       #valor unitário na diagonal principal\n",
    "        Fg[j]=0\n"
   ]
  },
  {
   "cell_type": "markdown",
   "metadata": {},
   "source": [
    "Para ilustrar esse processo, a matriz de rigidez restringida da estrutura resulta em:"
   ]
  },
  {
   "cell_type": "code",
   "execution_count": 82,
   "metadata": {},
   "outputs": [
    {
     "data": {
      "text/html": [
       "<script>\n",
       "code_show=true; \n",
       "function code_toggle() {\n",
       "    if (code_show){\n",
       "        $('div.cell.code_cell.rendered.selected div.input').hide();\n",
       "    } else {\n",
       "        $('div.cell.code_cell.rendered.selected div.input').show();\n",
       "    }\n",
       "    code_show = !code_show\n",
       "} \n",
       "$( document ).ready(code_toggle);\n",
       "</script>\n",
       "To show/hide this cell's raw code input, click <a href=\"javascript:code_toggle()\">here</a>."
      ],
      "text/plain": [
       "<IPython.core.display.HTML object>"
      ]
     },
     "metadata": {},
     "output_type": "display_data"
    },
    {
     "data": {
      "text/latex": [
       "$\\displaystyle \\begin{align}\\begin{bmatrix}1.0&0.0&0.0&0.0&0.0\\\\0.0&35555555.56&-17777777.78&0.0&0.0\\\\0.0&-17777777.78&31111111.11&-17777777.78&2222222.22\\\\0.0&0.0&-17777777.78&35555555.56&-17777777.78\\\\0.0&0.0&2222222.22&-17777777.78&15555555.56\\\\\\end{bmatrix}\\end{align}$"
      ],
      "text/plain": [
       "<IPython.core.display.Math object>"
      ]
     },
     "metadata": {},
     "output_type": "display_data"
    }
   ],
   "source": [
    "tag = HTML('''<script>\n",
    "code_show=true; \n",
    "function code_toggle() {\n",
    "    if (code_show){\n",
    "        $('div.cell.code_cell.rendered.selected div.input').hide();\n",
    "    } else {\n",
    "        $('div.cell.code_cell.rendered.selected div.input').show();\n",
    "    }\n",
    "    code_show = !code_show\n",
    "} \n",
    "$( document ).ready(code_toggle);\n",
    "</script>\n",
    "To show/hide this cell's raw code input, click <a href=\"javascript:code_toggle()\">here</a>.''')\n",
    "display(tag)\n",
    "\n",
    "txt = r'\\begin{align}\\begin{bmatrix}'\n",
    "for j in range(GDL):\n",
    "    for i in range(GDL-1):\n",
    "        txt+=str(np.round(Kg[j,i],2))+'&'\n",
    "    \n",
    "    txt+= str(np.round(Kg[j,GDL-1],2)) + '\\\\\\\\'\n",
    "txt+= '\\end{bmatrix}\\end{align}'\n",
    "display(Math(txt))"
   ]
  },
  {
   "cell_type": "markdown",
   "metadata": {},
   "source": [
    "Após a aplicação das condições de contorno, pode-se obter os deslocamentos nos nós da estrutura resolvendo o sistema de equações lineares $\\textbf{K}\\textbf{d}=\\textbf{F}+\\textbf{F}_{eq}$:"
   ]
  },
  {
   "cell_type": "code",
   "execution_count": 83,
   "metadata": {},
   "outputs": [],
   "source": [
    "# Calculo dos GDLs\n",
    "desloc=np.linalg.solve(Kg,Fg)    "
   ]
  },
  {
   "cell_type": "code",
   "execution_count": 84,
   "metadata": {},
   "outputs": [
    {
     "data": {
      "text/html": [
       "<script>\n",
       "code_show=true; \n",
       "function code_toggle() {\n",
       "    if (code_show){\n",
       "        $('div.cell.code_cell.rendered.selected div.input').hide();\n",
       "    } else {\n",
       "        $('div.cell.code_cell.rendered.selected div.input').show();\n",
       "    }\n",
       "    code_show = !code_show\n",
       "} \n",
       "$( document ).ready(code_toggle);\n",
       "</script>\n",
       "To show/hide this cell's raw code input, click <a href=\"javascript:code_toggle()\">here</a>."
      ],
      "text/plain": [
       "<IPython.core.display.HTML object>"
      ]
     },
     "metadata": {},
     "output_type": "display_data"
    },
    {
     "data": {
      "text/latex": [
       "$\\displaystyle \\begin{align}\\quad\\boldsymbol d=\\begin{bmatrix}0.0\\\\3.68E-3\\\\6.94E-3\\\\9.35E-3\\\\1.05E-2\\\\\\end{bmatrix}\\end{align}$"
      ],
      "text/plain": [
       "<IPython.core.display.Math object>"
      ]
     },
     "metadata": {},
     "output_type": "display_data"
    }
   ],
   "source": [
    "tag = HTML('''<script>\n",
    "code_show=true; \n",
    "function code_toggle() {\n",
    "    if (code_show){\n",
    "        $('div.cell.code_cell.rendered.selected div.input').hide();\n",
    "    } else {\n",
    "        $('div.cell.code_cell.rendered.selected div.input').show();\n",
    "    }\n",
    "    code_show = !code_show\n",
    "} \n",
    "$( document ).ready(code_toggle);\n",
    "</script>\n",
    "To show/hide this cell's raw code input, click <a href=\"javascript:code_toggle()\">here</a>.''')\n",
    "display(tag)\n",
    "from decimal import Decimal\n",
    "\n",
    "txt = r'\\begin{align}\\quad\\boldsymbol d=\\begin{bmatrix}'\n",
    "for j in range(GDL):\n",
    "    if desloc[j,0] == 0:\n",
    "        txt+= str(desloc[j,0]) + '\\\\\\\\'\n",
    "    else:    \n",
    "        txt+= str(\"{:.2E}\".format(Decimal(desloc[j,0]))) + '\\\\\\\\'\n",
    "txt+= '\\end{bmatrix}\\end{align}'\n",
    "display(Math(txt))"
   ]
  },
  {
   "cell_type": "markdown",
   "metadata": {},
   "source": [
    "Tendo calculado os deslocamentos, pode-se agora obter as reações $(\\textbf{R})$ usando a expressão $\\textbf{R} = \\textbf{K}\\textbf{d}$:"
   ]
  },
  {
   "cell_type": "code",
   "execution_count": 85,
   "metadata": {},
   "outputs": [],
   "source": [
    "# Reações\n",
    "reacoes=np.matmul(K, desloc)-Feq"
   ]
  },
  {
   "cell_type": "code",
   "execution_count": 86,
   "metadata": {},
   "outputs": [
    {
     "data": {
      "text/html": [
       "<script>\n",
       "code_show=true; \n",
       "function code_toggle() {\n",
       "    if (code_show){\n",
       "        $('div.cell.code_cell.rendered.selected div.input').hide();\n",
       "    } else {\n",
       "        $('div.cell.code_cell.rendered.selected div.input').show();\n",
       "    }\n",
       "    code_show = !code_show\n",
       "} \n",
       "$( document ).ready(code_toggle);\n",
       "</script>\n",
       "To show/hide this cell's raw code input, click <a href=\"javascript:code_toggle()\">here</a>."
      ],
      "text/plain": [
       "<IPython.core.display.HTML object>"
      ]
     },
     "metadata": {},
     "output_type": "display_data"
    },
    {
     "data": {
      "text/latex": [
       "$\\displaystyle \\begin{align}\\quad\\boldsymbol R=\\begin{bmatrix}-5.00E+4\\\\0.0\\\\1.09E-11\\\\2.91E-11\\\\5.00E+3\\\\\\end{bmatrix}\\end{align}$"
      ],
      "text/plain": [
       "<IPython.core.display.Math object>"
      ]
     },
     "metadata": {},
     "output_type": "display_data"
    }
   ],
   "source": [
    "tag = HTML('''<script>\n",
    "code_show=true; \n",
    "function code_toggle() {\n",
    "    if (code_show){\n",
    "        $('div.cell.code_cell.rendered.selected div.input').hide();\n",
    "    } else {\n",
    "        $('div.cell.code_cell.rendered.selected div.input').show();\n",
    "    }\n",
    "    code_show = !code_show\n",
    "} \n",
    "$( document ).ready(code_toggle);\n",
    "</script>\n",
    "To show/hide this cell's raw code input, click <a href=\"javascript:code_toggle()\">here</a>.''')\n",
    "display(tag)\n",
    "from decimal import Decimal\n",
    "\n",
    "txt = r'\\begin{align}\\quad\\boldsymbol R=\\begin{bmatrix}'\n",
    "for j in range(GDL):\n",
    "    if reacoes[j,0] == 0:\n",
    "        txt+= str(reacoes[j,0]) + '\\\\\\\\'\n",
    "    else:    \n",
    "        txt+= str(\"{:.2E}\".format(Decimal(reacoes[j,0]))) + '\\\\\\\\'\n",
    "txt+= '\\end{bmatrix}\\end{align}'\n",
    "display(Math(txt))"
   ]
  },
  {
   "cell_type": "code",
   "execution_count": 93,
   "metadata": {},
   "outputs": [
    {
     "name": "stdout",
     "output_type": "stream",
     "text": [
      "Tensão [MPa] no 1o e 3o nó de cada elemento:\n"
     ]
    },
    {
     "data": {
      "text/latex": [
       "$\\displaystyle \\left[\\begin{matrix}1037.5 & 812.5\\\\812.499999999999 & 137.499999999999\\end{matrix}\\right]$"
      ],
      "text/plain": [
       "[[1037.5, 812.5], [812.499999999999, 137.499999999999]]"
      ]
     },
     "execution_count": 93,
     "metadata": {},
     "output_type": "execute_result"
    }
   ],
   "source": [
    "# Tensão nos elementos\n",
    "Sigmax_el=np.zeros((n_el,2))\n",
    "for el in range(n_el):\n",
    "    #calculo do comprimento do elemento el\n",
    "    no1=conec[el,2]\n",
    "    no2=conec[el,3]\n",
    "    no3=conec[el,4]\n",
    "    L = np.sqrt((x[no2] - x[no1])**2)\n",
    "    #Propriedades\n",
    "    A = secoes[conec[el,1],1]\n",
    "    E = secoes[conec[el,1],2]\n",
    "   #pega os valores dos deslocamentos dos nós do elemento \"el\"\n",
    "    ui = desloc[no1]\n",
    "    uj = desloc[no2]\n",
    "    uk = desloc[no3]\n",
    "    d_e=np.array([ui,  uj, uk])\n",
    "    # Cálculo da tensão\n",
    "    PontosTensao=np.array([0,2*L])\n",
    "    for i in range(2):\n",
    "        xe = PontosTensao[i]\n",
    "        B = np.array([-3/(2*L)+1/L**2*xe, 2/L-2/L**2*xe, -1/(2*L)+1/L**2*xe])\n",
    "        Sigmax_el[el,i] = E*np.dot(B,d_e)\n",
    "print('Tensão [MPa] no 1o e 3o nó de cada elemento:')\n",
    "simplify(Sigmax_el/1e6)"
   ]
  },
  {
   "cell_type": "code",
   "execution_count": null,
   "metadata": {},
   "outputs": [],
   "source": []
  }
 ],
 "metadata": {
  "kernelspec": {
   "display_name": "Python 3 (ipykernel)",
   "language": "python",
   "name": "python3"
  },
  "language_info": {
   "codemirror_mode": {
    "name": "ipython",
    "version": 3
   },
   "file_extension": ".py",
   "mimetype": "text/x-python",
   "name": "python",
   "nbconvert_exporter": "python",
   "pygments_lexer": "ipython3",
   "version": "3.11.1"
  }
 },
 "nbformat": 4,
 "nbformat_minor": 4
}
