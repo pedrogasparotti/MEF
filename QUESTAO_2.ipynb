{
 "cells": [
  {
   "cell_type": "markdown",
   "metadata": {},
   "source": [
    "## Constant Strain Triangle (CST). Código de MEF para elasticidade plana\n",
    "\n"
   ]
  },
  {
   "cell_type": "markdown",
   "metadata": {},
   "source": [
    "![title](porticoex0.png)"
   ]
  },
  {
   "cell_type": "markdown",
   "metadata": {},
   "source": [
    "Começamos então definindo o número de nós (n_nos) e número de elementos (n_el) da estrutura, assim como o número de cada nós e suas coordenadas no plano xy:"
   ]
  },
  {
   "cell_type": "markdown",
   "metadata": {},
   "source": [
    "# Definição da estrutura"
   ]
  },
  {
   "cell_type": "markdown",
   "metadata": {},
   "source": [
    "### Coordenadas dos nós"
   ]
  },
  {
   "cell_type": "code",
   "execution_count": 47,
   "metadata": {},
   "outputs": [
    {
     "name": "stdout",
     "output_type": "stream",
     "text": [
      "Número de nós:  8\n",
      "Número de elementos:  10\n",
      "[0.0, 4.0, 8.0, 12.0, 0.0, 4.0, 8.0, 12.0]\n",
      "[0.0, 0.0, 0.0, 0.0, 3.0, 3.0, 3.0, 3.0]\n"
     ]
    }
   ],
   "source": [
    "import numpy as np\n",
    "from pylab import *\n",
    "import matplotlib.pyplot as plt\n",
    "\n",
    "# Dados do problema \"Pórticos: EXEMPLO 02\" da lista\n",
    "\n",
    "#N de Camadas na Vertical\n",
    "n_v=1\n",
    "#N de Camadas na Horizontal\n",
    "n_h=3\n",
    "\n",
    "#N de nós em função das camadas\n",
    "#n_nos nas barras verticais\n",
    "n_nos_barra_h = n_v+1\n",
    "#n_nos nas barras horizontais\n",
    "n_nos_barra_v= n_h+1\n",
    "#n_nos totais\n",
    "n_nos= n_nos_barra_h * n_nos_barra_v\n",
    "\n",
    "n_el = n_nos + n_v * n_h - 1 #Número de elementos\n",
    "\n",
    "L = 12\n",
    "H = 3\n",
    "\n",
    "print(\"Número de nós: \",n_nos)\n",
    "print(\"Número de elementos: \",n_el)\n",
    "# número de cada nó e coordenadas x e y dos mesmos\n",
    "#Nós em função do n_nos\n",
    "no = list(range(0,n_nos))\n",
    "\n",
    "#Coordenadas x e y dos nós em função do n_nos_H e n_nos_V dentro do comprimento L e altura H\n",
    "y = []\n",
    "x = []\n",
    "\n",
    "dist_x = L/(n_h)\n",
    "dist_y = H/(n_v)\n",
    "\n",
    "for j in range(0, n_v + 1):\n",
    "    for i in range(0, n_h + 1):\n",
    "\n",
    "        y.append( j * dist_y )\n",
    "        x.append( i * dist_x)\n",
    "\n",
    "print(x)\n",
    "print(y)"
   ]
  },
  {
   "cell_type": "code",
   "execution_count": 48,
   "metadata": {},
   "outputs": [
    {
     "data": {
      "text/html": [
       "<script>\n",
       "code_show=true; \n",
       "function code_toggle() {\n",
       "    if (code_show){\n",
       "        $('div.cell.code_cell.rendered.selected div.input').hide();\n",
       "    } else {\n",
       "        $('div.cell.code_cell.rendered.selected div.input').show();\n",
       "    }\n",
       "    code_show = !code_show\n",
       "} \n",
       "$( document ).ready(code_toggle);\n",
       "</script>\n",
       "To show/hide this cell's raw code input, click <a href=\"javascript:code_toggle()\">here</a>."
      ],
      "text/plain": [
       "<IPython.core.display.HTML object>"
      ]
     },
     "metadata": {},
     "output_type": "display_data"
    },
    {
     "data": {
      "image/png": "[encoded data removed]",
      "text/plain": [
       "<Figure size 640x480 with 1 Axes>"
      ]
     },
     "metadata": {},
     "output_type": "display_data"
    }
   ],
   "source": [
    "###############     Código apenas para geração da imagem    ##################\n",
    "from IPython.display import display, Math, HTML\n",
    "\n",
    "tag = HTML('''<script>\n",
    "code_show=true; \n",
    "function code_toggle() {\n",
    "    if (code_show){\n",
    "        $('div.cell.code_cell.rendered.selected div.input').hide();\n",
    "    } else {\n",
    "        $('div.cell.code_cell.rendered.selected div.input').show();\n",
    "    }\n",
    "    code_show = !code_show\n",
    "} \n",
    "$( document ).ready(code_toggle);\n",
    "</script>\n",
    "To show/hide this cell's raw code input, click <a href=\"javascript:code_toggle()\">here</a>.''')\n",
    "display(tag)\n",
    "\n",
    "#Código apenas para geração da imagem\n",
    "fig = plt.figure()\n",
    "ax = fig.add_subplot(111)\n",
    "\n",
    "lines = plt.plot(x,y,'ro')\n",
    "for i in no:\n",
    "    plt.annotate(str(no[i]), xy=(x[i], y[i]), xytext=(x[i], y[i]))\n",
    "\n",
    "title('Coordenadas da estrutura')\n",
    "grid()\n",
    "\n",
    "show()"
   ]
  },
  {
   "cell_type": "markdown",
   "metadata": {},
   "source": [
    "O próximo passo é a definição da matriz de conectividade da estrutura [conec], responsável pela definição dos elementos e suas propriedades. Essa matriz possui uma linha para cada elemento, sendo que cada coluna indica, respectivamente: número do elemento, número da seção transversal do mesmo (que define suas propriedades), primeiro nó, segundo nó e terceiro nó do elemento. \n",
    "\n",
    "As propriedades são definidas na matriz [secoes], que possui uma linha para cada seção distinta na estrutura. A primeira coluna indica o número da seção, a segunda a espessura do elemento, a terceira o módulo de elasticidade, e a quarta o coeficiente de Poisson."
   ]
  },
  {
   "cell_type": "markdown",
   "metadata": {},
   "source": [
    "### Elementos e seções"
   ]
  },
  {
   "cell_type": "code",
   "execution_count": 54,
   "metadata": {},
   "outputs": [
    {
     "name": "stdout",
     "output_type": "stream",
     "text": [
      "6\n"
     ]
    }
   ],
   "source": [
    "\n",
    "# Matriz de conectividade: [elemento, Número da seção, primeiro nó, segundo nó]\n",
    "\n",
    "n_total_el = n_v * n_h *2 \n",
    "\n",
    "print(n_total_el)\n",
    "\n",
    "conec = np.array([[0,   0,   0,   1,   5], # horizontais\n",
    "                  [1,   0,   0,   2,   3],\n",
    "                  [2,   0,   2,   5,   3],\n",
    "                  [3,   0,   2,   4,   5],\n",
    "                  [4,   0,   2,   4,   5],\n",
    "                  [5,   0,   2,   4,   5]])\n",
    "\n",
    "n_sec=1 # Número de seções distintas presentes na estrutura\n",
    "\n",
    "# Matriz de Seções: [número da seção, área, módulo de elasticidade]\n",
    "secoes = np.array([[0, 0.01, 20e9, .2]])"
   ]
  },
  {
   "cell_type": "code",
   "execution_count": 35,
   "metadata": {},
   "outputs": [
    {
     "data": {
      "text/html": [
       "<script>\n",
       "code_show=true; \n",
       "function code_toggle() {\n",
       "    if (code_show){\n",
       "        $('div.cell.code_cell.rendered.selected div.input').hide();\n",
       "    } else {\n",
       "        $('div.cell.code_cell.rendered.selected div.input').show();\n",
       "    }\n",
       "    code_show = !code_show\n",
       "} \n",
       "$( document ).ready(code_toggle);\n",
       "</script>\n",
       "To show/hide this cell's raw code input, click <a href=\"javascript:code_toggle()\">here</a>."
      ],
      "text/plain": [
       "<IPython.core.display.HTML object>"
      ]
     },
     "metadata": {},
     "output_type": "display_data"
    },
    {
     "ename": "IndexError",
     "evalue": "index 4 is out of bounds for axis 0 with size 4",
     "output_type": "error",
     "traceback": [
      "\u001b[1;31m---------------------------------------------------------------------------\u001b[0m",
      "\u001b[1;31mIndexError\u001b[0m                                Traceback (most recent call last)",
      "\u001b[1;32mc:\\pyDocs\\gitRepos\\MEF\\MEF\\QUESTAO_2.ipynb Cell 11\u001b[0m line \u001b[0;36m2\n\u001b[0;32m     <a href='vscode-notebook-cell:/c%3A/pyDocs/gitRepos/MEF/MEF/QUESTAO_2.ipynb#X13sZmlsZQ%3D%3D?line=21'>22</a>\u001b[0m     plt\u001b[39m.\u001b[39mannotate(\u001b[39mstr\u001b[39m(no[i]), xy\u001b[39m=\u001b[39m(x[i], y[i]), xytext\u001b[39m=\u001b[39m(x[i], y[i]))\n\u001b[0;32m     <a href='vscode-notebook-cell:/c%3A/pyDocs/gitRepos/MEF/MEF/QUESTAO_2.ipynb#X13sZmlsZQ%3D%3D?line=23'>24</a>\u001b[0m \u001b[39mfor\u001b[39;00m i \u001b[39min\u001b[39;00m \u001b[39mrange\u001b[39m(n_el):\n\u001b[1;32m---> <a href='vscode-notebook-cell:/c%3A/pyDocs/gitRepos/MEF/MEF/QUESTAO_2.ipynb#X13sZmlsZQ%3D%3D?line=24'>25</a>\u001b[0m     plt\u001b[39m.\u001b[39mplot([x[conec[i,\u001b[39m2\u001b[39;49m]], x[conec[i,\u001b[39m3\u001b[39m]]],[y[conec[i,\u001b[39m2\u001b[39m]], y[conec[i,\u001b[39m3\u001b[39m]]],\u001b[39m'\u001b[39m\u001b[39mk\u001b[39m\u001b[39m'\u001b[39m)\n\u001b[0;32m     <a href='vscode-notebook-cell:/c%3A/pyDocs/gitRepos/MEF/MEF/QUESTAO_2.ipynb#X13sZmlsZQ%3D%3D?line=25'>26</a>\u001b[0m     plt\u001b[39m.\u001b[39mplot([x[conec[i,\u001b[39m3\u001b[39m]], x[conec[i,\u001b[39m4\u001b[39m]]],[y[conec[i,\u001b[39m3\u001b[39m]], y[conec[i,\u001b[39m4\u001b[39m]]],\u001b[39m'\u001b[39m\u001b[39mk\u001b[39m\u001b[39m'\u001b[39m)\n\u001b[0;32m     <a href='vscode-notebook-cell:/c%3A/pyDocs/gitRepos/MEF/MEF/QUESTAO_2.ipynb#X13sZmlsZQ%3D%3D?line=26'>27</a>\u001b[0m     plt\u001b[39m.\u001b[39mplot([x[conec[i,\u001b[39m4\u001b[39m]], x[conec[i,\u001b[39m2\u001b[39m]]],[y[conec[i,\u001b[39m4\u001b[39m]], y[conec[i,\u001b[39m2\u001b[39m]]],\u001b[39m'\u001b[39m\u001b[39mk\u001b[39m\u001b[39m'\u001b[39m)\n",
      "\u001b[1;31mIndexError\u001b[0m: index 4 is out of bounds for axis 0 with size 4"
     ]
    },
    {
     "data": {
      "image/png": "[encoded data removed]",
      "text/plain": [
       "<Figure size 640x480 with 1 Axes>"
      ]
     },
     "metadata": {},
     "output_type": "display_data"
    }
   ],
   "source": [
    "tag = HTML('''<script>\n",
    "code_show=true; \n",
    "function code_toggle() {\n",
    "    if (code_show){\n",
    "        $('div.cell.code_cell.rendered.selected div.input').hide();\n",
    "    } else {\n",
    "        $('div.cell.code_cell.rendered.selected div.input').show();\n",
    "    }\n",
    "    code_show = !code_show\n",
    "} \n",
    "$( document ).ready(code_toggle);\n",
    "</script>\n",
    "To show/hide this cell's raw code input, click <a href=\"javascript:code_toggle()\">here</a>.''')\n",
    "display(tag)\n",
    "\n",
    "#Apenas para plotagem da figura\n",
    "fig = plt.figure()\n",
    "ax = fig.add_subplot(111)\n",
    "\n",
    "lines = plt.plot(x,y,'ro')\n",
    "for i in no:\n",
    "    plt.annotate(str(no[i]), xy=(x[i], y[i]), xytext=(x[i], y[i]))\n",
    "\n",
    "for i in range(n_el):\n",
    "    plt.plot([x[conec[i,2]], x[conec[i,3]]],[y[conec[i,2]], y[conec[i,3]]],'k')\n",
    "    plt.plot([x[conec[i,3]], x[conec[i,4]]],[y[conec[i,3]], y[conec[i,4]]],'k')\n",
    "    plt.plot([x[conec[i,4]], x[conec[i,2]]],[y[conec[i,4]], y[conec[i,2]]],'k')\n",
    "    plt.annotate('Elemento ' +str(i)+'=>secao:'+str(conec[i,1]), xy=((x[conec[i,2]]+x[conec[i,3]]+x[conec[i,4]])/3, (y[conec[i,2]]+y[conec[i,3]]+y[conec[i,4]])/3),\n",
    "                 xytext=((x[conec[i,2]]+x[conec[i,3]]+x[conec[i,4]])/3, (y[conec[i,2]]+y[conec[i,3]]+y[conec[i,4]])/3),color='r')\n",
    "title('Elementos da estrutura')\n",
    "grid()\n",
    "\n",
    "show()"
   ]
  },
  {
   "cell_type": "markdown",
   "metadata": {},
   "source": [
    "O próximo passo é definir o carregamento. A seguir tem-se o caso das forças nodais, onde a matriz  [forcas]  é utilizada para definir as informações necessárias. Para cada nó em que ao menos uma força nodal atua, tem-se uma linha nessa matriz. A primeira coluna refere-se ao nó carregado, a segunda ao carregamento na direção x, e a terceira em y. "
   ]
  },
  {
   "cell_type": "markdown",
   "metadata": {},
   "source": [
    "### Forças"
   ]
  },
  {
   "cell_type": "code",
   "execution_count": 45,
   "metadata": {},
   "outputs": [],
   "source": [
    "# Carregamentos nodais (Fzão da estrutura)\n",
    "n_forcas=2 #Número de nós na qual atuam forças\n",
    "#Matriz de forças [nó (primeiro nó é o nó zero e não 1), força em x, força em y]\n",
    "forcas=np.matrix([[5,    100e3,    0],\n",
    "                  [4,  100e3,      0]])"
   ]
  },
  {
   "cell_type": "code",
   "execution_count": 46,
   "metadata": {
    "scrolled": true
   },
   "outputs": [
    {
     "data": {
      "text/html": [
       "<script>\n",
       "code_show=true; \n",
       "function code_toggle() {\n",
       "    if (code_show){\n",
       "        $('div.cell.code_cell.rendered.selected div.input').hide();\n",
       "    } else {\n",
       "        $('div.cell.code_cell.rendered.selected div.input').show();\n",
       "    }\n",
       "    code_show = !code_show\n",
       "} \n",
       "$( document ).ready(code_toggle);\n",
       "</script>\n",
       "To show/hide this cell's raw code input, click <a href=\"javascript:code_toggle()\">here</a>."
      ],
      "text/plain": [
       "<IPython.core.display.HTML object>"
      ]
     },
     "metadata": {},
     "output_type": "display_data"
    },
    {
     "data": {
      "image/png": "[encoded data removed]",
      "text/plain": [
       "<Figure size 640x480 with 1 Axes>"
      ]
     },
     "metadata": {},
     "output_type": "display_data"
    }
   ],
   "source": [
    "tag = HTML('''<script>\n",
    "code_show=true; \n",
    "function code_toggle() {\n",
    "    if (code_show){\n",
    "        $('div.cell.code_cell.rendered.selected div.input').hide();\n",
    "    } else {\n",
    "        $('div.cell.code_cell.rendered.selected div.input').show();\n",
    "    }\n",
    "    code_show = !code_show\n",
    "} \n",
    "$( document ).ready(code_toggle);\n",
    "</script>\n",
    "To show/hide this cell's raw code input, click <a href=\"javascript:code_toggle()\">here</a>.''')\n",
    "display(tag)\n",
    "\n",
    "from pylab import *\n",
    "\n",
    "#Apenas para plotagem da figura\n",
    "fig = plt.figure()\n",
    "ax = fig.add_subplot(111)\n",
    "\n",
    "lines = plt.plot(x,y,'ro')\n",
    "for i in no:\n",
    "    plt.annotate(str(no[i-1]), xy=(x[i-1], y[i-1]), xytext=(x[i-1], y[i-1]))\n",
    "l = max(abs(x[1]-x[0]),abs(y[1]-y[0]))\n",
    "j = 0\n",
    "if n_forcas != 0:\n",
    "    for i in forcas[:,0]:\n",
    "        if int(forcas[j,1]) != 0:\n",
    "            arrow( x[int(i)]-np.sign(forcas[j,1])*0.25*l, y[int(i)],np.sign(forcas[j,1])*0.25*l,0,\n",
    "                  length_includes_head = True, head_width = l*0.05 )\n",
    "            plt.annotate('Fx='+str(forcas[j,1]), xy=(x[int(i)]-np.sign(forcas[j,1])*0.25*l, y[int(i)]),\n",
    "                     xytext=(x[int(i)]-np.sign(forcas[j,1])*0.25*l, y[int(i)]),color='r')\n",
    "        if int(forcas[j,2]) != 0:\n",
    "            arrow( x[int(i)], y[int(i)]-np.sign(forcas[j,2])*0.25*l,0,np.sign(forcas[j,2])*0.25*l,\n",
    "                  length_includes_head = True, head_width = l*0.05 )\n",
    "            plt.annotate('Fy='+str(forcas[j,2]), xy=(x[int(i)], y[int(i)]-np.sign(forcas[j,2])*0.25*l),\n",
    "                     xytext=(x[int(i)], y[int(i)]-np.sign(forcas[j,2])*0.25*l),color='r')\n",
    "\n",
    "\n",
    "        j = j+1\n",
    "\n",
    "for i in range(n_el):\n",
    "    plt.plot([x[conec[i,2]], x[conec[i,3]]],[y[conec[i,2]], y[conec[i,3]]],'k')\n",
    "    plt.plot([x[conec[i,3]], x[conec[i,4]]],[y[conec[i,3]], y[conec[i,4]]],'k')\n",
    "    plt.plot([x[conec[i,4]], x[conec[i,2]]],[y[conec[i,4]], y[conec[i,2]]],'k')   \n",
    "\n",
    "left, right = xlim()\n",
    "lower, upper = ylim()\n",
    "xlim((left-0.25*l,right+0.25*l))\n",
    "ylim((lower-0.25*l,upper+0.25*l))\n",
    "title(u\"Forças nodais\")\n",
    "grid()\n",
    "\n",
    "show()"
   ]
  },
  {
   "cell_type": "markdown",
   "metadata": {},
   "source": [
    "Por fim, resta definir as condições de contorno do problema. Para isso, a matriz  [GDL_rest]   com número de linhas igual ao número de nós que contém pelo menos uma restrição (tipo de apoio) deve ser informada. Já para as colunas, a primeira indica o número do nó restringido e as duas colunas seguintes referem-se aos graus de liberdade em x e y desse nó, respectivamente. Caso apresente valor 1, isso indica que o respectivo GDL desse nó está restringido, caso seja zero, o GDL está liberado. Vale ressaltar que caso um nó não apresente restrições, ele não deve ser incluído na matriz."
   ]
  },
  {
   "cell_type": "markdown",
   "metadata": {},
   "source": [
    "### Graus de liberdade"
   ]
  },
  {
   "cell_type": "code",
   "execution_count": 47,
   "metadata": {},
   "outputs": [],
   "source": [
    "# Apoios\n",
    "n_rest=2  #número de nós restringidos\n",
    "#Matriz de condições de contorno \n",
    "# [número do nó, restringido_x, restringido_y] (1 para restringido, e 0 para livre)\n",
    "GDL_rest=np.array([[0, 1, 1 ],\n",
    "                   [1, 1, 0 ]])\n"
   ]
  },
  {
   "cell_type": "markdown",
   "metadata": {},
   "source": [
    "Essa matriz de condições de contorno indica que os seguintes nós e graus de liberdade estão restringidos: "
   ]
  },
  {
   "cell_type": "code",
   "execution_count": 48,
   "metadata": {},
   "outputs": [
    {
     "data": {
      "text/html": [
       "<script>\n",
       "code_show=true; \n",
       "function code_toggle() {\n",
       "    if (code_show){\n",
       "        $('div.cell.code_cell.rendered.selected div.input').hide();\n",
       "    } else {\n",
       "        $('div.cell.code_cell.rendered.selected div.input').show();\n",
       "    }\n",
       "    code_show = !code_show\n",
       "} \n",
       "$( document ).ready(code_toggle);\n",
       "</script>\n",
       "To show/hide this cell's raw code input, click <a href=\"javascript:code_toggle()\">here</a>."
      ],
      "text/plain": [
       "<IPython.core.display.HTML object>"
      ]
     },
     "metadata": {},
     "output_type": "display_data"
    },
    {
     "data": {
      "text/latex": [
       "$\\displaystyle \\begin{align}No0: x=fixo, y=fixo,\\\\No1: x=fixo,\\\\\\end{align}$"
      ],
      "text/plain": [
       "<IPython.core.display.Math object>"
      ]
     },
     "metadata": {},
     "output_type": "display_data"
    }
   ],
   "source": [
    "tag = HTML('''<script>\n",
    "code_show=true; \n",
    "function code_toggle() {\n",
    "    if (code_show){\n",
    "        $('div.cell.code_cell.rendered.selected div.input').hide();\n",
    "    } else {\n",
    "        $('div.cell.code_cell.rendered.selected div.input').show();\n",
    "    }\n",
    "    code_show = !code_show\n",
    "} \n",
    "$( document ).ready(code_toggle);\n",
    "</script>\n",
    "To show/hide this cell's raw code input, click <a href=\"javascript:code_toggle()\">here</a>.''')\n",
    "display(tag)\n",
    "\n",
    "txt = r'\\begin{align}'\n",
    "j = 0\n",
    "for i in GDL_rest[:,0]:\n",
    "    txt = txt + 'No' + str(GDL_rest[j,0]) + ':'\n",
    "    if GDL_rest[j,1] == 1:\n",
    "        txt = txt+' x=fixo,'\n",
    "    if GDL_rest[j,2] == 1:\n",
    "        txt = txt+' y=fixo,'\n",
    "    txt = txt+'\\\\\\\\'\n",
    "    j = j + 1\n",
    "txt = txt + '\\end{align}'\n",
    "display(Math(txt))"
   ]
  },
  {
   "cell_type": "markdown",
   "metadata": {},
   "source": [
    "# Cálculo da estrutura\n",
    "\n",
    "Todas as informações necessárias para definição da estrutura já foram passadas. Assim, as próximas linhas de código são independentes do problema em questão.\n",
    "\n",
    "O cálculo da estrutura inicia pela matriz de rigidez da mesma, considerando a contribuição de um elemento por vez, conforme trecho de código a seguir:"
   ]
  },
  {
   "cell_type": "markdown",
   "metadata": {},
   "source": [
    "### Matriz de rigidez"
   ]
  },
  {
   "cell_type": "code",
   "execution_count": 49,
   "metadata": {},
   "outputs": [],
   "source": [
    "# CALCULO DA ESTRUTURA\n",
    "GDL=2*n_nos  #graus de liberdade da estrutura\n",
    "K=np.zeros((GDL,GDL)) #matriz rigidez global\n",
    "\n",
    "# Cálculo da matriz de cada elemento\n",
    "for el in range(n_el):\n",
    "    #extrai os nós do elemento \"el\"\n",
    "    no1=conec[el,2]\n",
    "    no2=conec[el,3]\n",
    "    no3=conec[el,4]\n",
    "    xel=np.array([x[no1],x[no2],x[no3]])\n",
    "    yel=np.array([y[no1],y[no2],y[no3]])\n",
    "    #Propriedades do elemento\n",
    "    auxAel = np.vstack([np.ones(3), xel, yel]).T\n",
    "    Ael = 0.5 * np.linalg.det(auxAel)\n",
    "    t = secoes[conec[el,1],1]\n",
    "    E = secoes[conec[el,1],2]\n",
    "    v = secoes[conec[el,1],3]\n",
    "    #Matriz B e ke\n",
    "    B = 1 / (2 * Ael) * np.array([\n",
    "        [yel[1] - yel[2], 0, yel[2] - yel[0], 0, yel[0] - yel[1], 0],\n",
    "        [0, xel[2] - xel[1], 0, xel[0] - xel[2], 0, xel[1] - xel[0]],\n",
    "        [xel[2] - xel[1], yel[1] - yel[2], xel[0] - xel[2], yel[2] - yel[0], xel[1] - xel[0], yel[0] - yel[1]]\n",
    "    ])\n",
    "    \n",
    "    Em = E / (1 - v**2) * np.array([\n",
    "        [1, v, 0],\n",
    "        [v, 1, 0],\n",
    "        [0, 0, (1 - v) / 2]\n",
    "    ])\n",
    "    \n",
    "    ke = np.dot(np.dot(B.T, Em), B) * t * Ael  \n",
    "    #Determinando matriz de incidência cinemática:\n",
    "    b = np.zeros((6,GDL))\n",
    "    i=no1\n",
    "    j=no2\n",
    "    k=no3\n",
    "    b[0,2*i] = 1\n",
    "    b[1,2*i+1] = 1\n",
    "    b[2,2*j] = 1\n",
    "    b[3,2*j+1] = 1\n",
    "    b[4,2*k] = 1\n",
    "    b[5,2*k+1] = 1              \n",
    "    #Expandindo e convertendo a matriz do elemento para coordenadas globais:\n",
    "    Ki=np.dot(np.transpose(b),np.dot(ke,b))\n",
    "    #Somando contribuição do elemento para a matriz de rigidez global:\n",
    "    K = K + Ki"
   ]
  },
  {
   "cell_type": "markdown",
   "metadata": {},
   "source": [
    "A matriz de rigidez da estrutura $(\\textbf{K})$ é então:"
   ]
  },
  {
   "cell_type": "code",
   "execution_count": 50,
   "metadata": {},
   "outputs": [
    {
     "data": {
      "text/html": [
       "<script>\n",
       "code_show=true; \n",
       "function code_toggle() {\n",
       "    if (code_show){\n",
       "        $('div.cell.code_cell.rendered.selected div.input').hide();\n",
       "    } else {\n",
       "        $('div.cell.code_cell.rendered.selected div.input').show();\n",
       "    }\n",
       "    code_show = !code_show\n",
       "} \n",
       "$( document ).ready(code_toggle);\n",
       "</script>\n",
       "To show/hide this cell's raw code input, click <a href=\"javascript:code_toggle()\">here</a>."
      ],
      "text/plain": [
       "<IPython.core.display.HTML object>"
      ]
     },
     "metadata": {},
     "output_type": "display_data"
    },
    {
     "data": {
      "text/latex": [
       "$\\displaystyle \\begin{align}\\begin{bmatrix}135416666.67&0.0&-83333333.33&41666666.67&-52083333.33&20833333.33&0.0&-62500000.0&0.0&0.0&0.0&0.0\\\\0.0&229166666.67&20833333.33&-208333333.33&41666666.67&-20833333.33&-62500000.0&0.0&0.0&0.0&0.0&0.0\\\\-83333333.33&20833333.33&135416666.67&-62500000.0&0.0&0.0&-52083333.33&41666666.67&0.0&0.0&0.0&0.0\\\\41666666.67&-208333333.33&-62500000.0&229166666.67&0.0&0.0&20833333.33&-20833333.33&0.0&0.0&0.0&0.0\\\\-52083333.33&41666666.67&0.0&0.0&270833333.33&-62500000.0&-166666666.67&62500000.0&-52083333.33&20833333.33&0.0&-62500000.0\\\\20833333.33&-20833333.33&0.0&0.0&-62500000.0&458333333.33&62500000.0&-416666666.67&41666666.67&-20833333.33&-62500000.0&0.0\\\\0.0&-62500000.0&-52083333.33&20833333.33&-166666666.67&62500000.0&270833333.33&-62500000.0&0.0&0.0&-52083333.33&41666666.67\\\\-62500000.0&0.0&41666666.67&-20833333.33&62500000.0&-416666666.67&-62500000.0&458333333.33&0.0&0.0&20833333.33&-20833333.33\\\\0.0&0.0&0.0&0.0&-52083333.33&41666666.67&0.0&0.0&135416666.67&-62500000.0&-83333333.33&20833333.33\\\\0.0&0.0&0.0&0.0&20833333.33&-20833333.33&0.0&0.0&-62500000.0&229166666.67&41666666.67&-208333333.33\\\\0.0&0.0&0.0&0.0&0.0&-62500000.0&-52083333.33&20833333.33&-83333333.33&41666666.67&135416666.67&0.0\\\\0.0&0.0&0.0&0.0&-62500000.0&0.0&41666666.67&-20833333.33&20833333.33&-208333333.33&0.0&229166666.67\\\\\\end{bmatrix}\\end{align}$"
      ],
      "text/plain": [
       "<IPython.core.display.Math object>"
      ]
     },
     "metadata": {},
     "output_type": "display_data"
    }
   ],
   "source": [
    "tag = HTML('''<script>\n",
    "code_show=true; \n",
    "function code_toggle() {\n",
    "    if (code_show){\n",
    "        $('div.cell.code_cell.rendered.selected div.input').hide();\n",
    "    } else {\n",
    "        $('div.cell.code_cell.rendered.selected div.input').show();\n",
    "    }\n",
    "    code_show = !code_show\n",
    "} \n",
    "$( document ).ready(code_toggle);\n",
    "</script>\n",
    "To show/hide this cell's raw code input, click <a href=\"javascript:code_toggle()\">here</a>.''')\n",
    "display(tag)\n",
    "\n",
    "txt = r'\\begin{align}\\begin{bmatrix}'\n",
    "for j in range(GDL):\n",
    "    for i in range(GDL-1):\n",
    "        txt+=str(np.round(K[j,i],2))+'&'\n",
    "    \n",
    "    txt+= str(np.round(K[j,GDL-1],2)) + '\\\\\\\\'\n",
    "txt+= '\\end{bmatrix}\\end{align}'\n",
    "display(Math(txt))"
   ]
  },
  {
   "cell_type": "markdown",
   "metadata": {},
   "source": [
    "### Forças"
   ]
  },
  {
   "cell_type": "markdown",
   "metadata": {},
   "source": [
    "A seguir tem-se o cálculo do vetor de forças:"
   ]
  },
  {
   "cell_type": "code",
   "execution_count": 51,
   "metadata": {},
   "outputs": [],
   "source": [
    "# Vetor de forcas Global\n",
    "F=np.zeros((GDL,1))\n",
    "for i in range(n_forcas):\n",
    "    F[int(2*forcas[i,0])]=forcas[i,1]\n",
    "    F[int(2*forcas[i,0])+1]=forcas[i,2]\n"
   ]
  },
  {
   "cell_type": "code",
   "execution_count": 52,
   "metadata": {},
   "outputs": [
    {
     "data": {
      "text/html": [
       "<script>\n",
       "code_show=true; \n",
       "function code_toggle() {\n",
       "    if (code_show){\n",
       "        $('div.cell.code_cell.rendered.selected div.input').hide();\n",
       "    } else {\n",
       "        $('div.cell.code_cell.rendered.selected div.input').show();\n",
       "    }\n",
       "    code_show = !code_show\n",
       "} \n",
       "$( document ).ready(code_toggle);\n",
       "</script>\n",
       "To show/hide this cell's raw code input, click <a href=\"javascript:code_toggle()\">here</a>."
      ],
      "text/plain": [
       "<IPython.core.display.HTML object>"
      ]
     },
     "metadata": {},
     "output_type": "display_data"
    },
    {
     "data": {
      "text/latex": [
       "$\\displaystyle \\begin{align}\\quad\\boldsymbol F=\\begin{bmatrix}0.0\\\\0.0\\\\0.0\\\\0.0\\\\0.0\\\\0.0\\\\0.0\\\\0.0\\\\100000.0\\\\0.0\\\\100000.0\\\\0.0\\\\\\end{bmatrix}\\end{align}$"
      ],
      "text/plain": [
       "<IPython.core.display.Math object>"
      ]
     },
     "metadata": {},
     "output_type": "display_data"
    }
   ],
   "source": [
    "tag = HTML('''<script>\n",
    "code_show=true; \n",
    "function code_toggle() {\n",
    "    if (code_show){\n",
    "        $('div.cell.code_cell.rendered.selected div.input').hide();\n",
    "    } else {\n",
    "        $('div.cell.code_cell.rendered.selected div.input').show();\n",
    "    }\n",
    "    code_show = !code_show\n",
    "} \n",
    "$( document ).ready(code_toggle);\n",
    "</script>\n",
    "To show/hide this cell's raw code input, click <a href=\"javascript:code_toggle()\">here</a>.''')\n",
    "display(tag)\n",
    "\n",
    "txt = r'\\begin{align}\\quad\\boldsymbol F=\\begin{bmatrix}'\n",
    "for j in range(GDL):    \n",
    "    txt+= str(np.round(F[j,0],2)) + '\\\\\\\\'\n",
    "txt+= '\\end{bmatrix}\\end{align}'\n",
    "display(Math(txt))"
   ]
  },
  {
   "cell_type": "markdown",
   "metadata": {},
   "source": [
    "Tem-se calculados até aqui a matriz de rigidez $(\\textbf{K})$ e o vetor de forças nodais $(\\textbf{F})$. O próximo passo é aplicar as condições de contorno ao problema, de modo a possibilitar a obtenção de uma solução para o mesmo. Para isso, elimina-se as linhas de $\\textbf{K}$, e $\\textbf{F}$ e colunas de $\\textbf{K}$ referentes aos GDL restringidos. \n",
    "\n",
    "Uma maneira computacionalmente simples e eficiente de se fazer isso é zerar os termos das linhas e colunas que seriam eliminadas de $\\textbf{K}$, e $\\textbf{F}$, e atribuir o valor 1 aos termos da diagonal da matriz $\\textbf{K}$ que seriam eliminados. O trecho de código a seguir refere-se a esse passo:"
   ]
  },
  {
   "cell_type": "markdown",
   "metadata": {},
   "source": [
    "### Matriz de rigidez global e vetor de forças global"
   ]
  },
  {
   "cell_type": "code",
   "execution_count": 53,
   "metadata": {},
   "outputs": [],
   "source": [
    "# guardamos os originais de K e F\n",
    "Kg=np.copy(K)\n",
    "#Kg[:] = K[:]\n",
    "\n",
    "Fg=F\n",
    "# Aplicar Restrições (condições de contorno)\n",
    "for k in range(n_rest):\n",
    "    # Verifica se há restrição na direção x\n",
    "    if GDL_rest[k,1]==1:\n",
    "        j=2*GDL_rest[k,0]\n",
    "        #Modificar Matriz de Rigidez\n",
    "        for i in range(GDL):\n",
    "            Kg[j,i]=0   #zera linha\n",
    "            Kg[i,j]=0   #zera coluna\n",
    "        Kg[j,j]=1       #valor unitário na diagonal principal\n",
    "        Fg[j]=0\n",
    "    # Verifica se há restrição na direção y\n",
    "    if GDL_rest[k,2]==1:\n",
    "        j=2*GDL_rest[k,0]+1\n",
    "        #Modificar Matriz de Rigidez\n",
    "        for i in range(GDL):\n",
    "            Kg[j,i]=0   #zera linha\n",
    "            Kg[i,j]=0   #zera coluna\n",
    "        Kg[j,j]=1       #valor unitário na diagonal principal\n",
    "        Fg[j]=0\n"
   ]
  },
  {
   "cell_type": "markdown",
   "metadata": {},
   "source": [
    "Para ilustrar esse processo, a matriz de rigidez restringida da estrutura resulta em:"
   ]
  },
  {
   "cell_type": "code",
   "execution_count": 54,
   "metadata": {},
   "outputs": [
    {
     "data": {
      "text/html": [
       "<script>\n",
       "code_show=true; \n",
       "function code_toggle() {\n",
       "    if (code_show){\n",
       "        $('div.cell.code_cell.rendered.selected div.input').hide();\n",
       "    } else {\n",
       "        $('div.cell.code_cell.rendered.selected div.input').show();\n",
       "    }\n",
       "    code_show = !code_show\n",
       "} \n",
       "$( document ).ready(code_toggle);\n",
       "</script>\n",
       "To show/hide this cell's raw code input, click <a href=\"javascript:code_toggle()\">here</a>."
      ],
      "text/plain": [
       "<IPython.core.display.HTML object>"
      ]
     },
     "metadata": {},
     "output_type": "display_data"
    },
    {
     "data": {
      "text/latex": [
       "$\\displaystyle K_g = \\begin{align}\\begin{bmatrix}1.0&0.0&0.0&0.0&0.0&0.0&0.0&0.0&0.0&0.0&0.0&0.0\\\\0.0&1.0&0.0&0.0&0.0&0.0&0.0&0.0&0.0&0.0&0.0&0.0\\\\0.0&0.0&1.0&0.0&0.0&0.0&0.0&0.0&0.0&0.0&0.0&0.0\\\\0.0&0.0&0.0&229166666.67&0.0&0.0&20833333.33&-20833333.33&0.0&0.0&0.0&0.0\\\\0.0&0.0&0.0&0.0&270833333.33&-62500000.0&-166666666.67&62500000.0&-52083333.33&20833333.33&0.0&-62500000.0\\\\0.0&0.0&0.0&0.0&-62500000.0&458333333.33&62500000.0&-416666666.67&41666666.67&-20833333.33&-62500000.0&0.0\\\\0.0&0.0&0.0&20833333.33&-166666666.67&62500000.0&270833333.33&-62500000.0&0.0&0.0&-52083333.33&41666666.67\\\\0.0&0.0&0.0&-20833333.33&62500000.0&-416666666.67&-62500000.0&458333333.33&0.0&0.0&20833333.33&-20833333.33\\\\0.0&0.0&0.0&0.0&-52083333.33&41666666.67&0.0&0.0&135416666.67&-62500000.0&-83333333.33&20833333.33\\\\0.0&0.0&0.0&0.0&20833333.33&-20833333.33&0.0&0.0&-62500000.0&229166666.67&41666666.67&-208333333.33\\\\0.0&0.0&0.0&0.0&0.0&-62500000.0&-52083333.33&20833333.33&-83333333.33&41666666.67&135416666.67&0.0\\\\0.0&0.0&0.0&0.0&-62500000.0&0.0&41666666.67&-20833333.33&20833333.33&-208333333.33&0.0&229166666.67\\\\\\end{bmatrix}\\end{align}$"
      ],
      "text/plain": [
       "<IPython.core.display.Math object>"
      ]
     },
     "metadata": {},
     "output_type": "display_data"
    }
   ],
   "source": [
    "tag = HTML('''<script>\n",
    "code_show=true; \n",
    "function code_toggle() {\n",
    "    if (code_show){\n",
    "        $('div.cell.code_cell.rendered.selected div.input').hide();\n",
    "    } else {\n",
    "        $('div.cell.code_cell.rendered.selected div.input').show();\n",
    "    }\n",
    "    code_show = !code_show\n",
    "} \n",
    "$( document ).ready(code_toggle);\n",
    "</script>\n",
    "To show/hide this cell's raw code input, click <a href=\"javascript:code_toggle()\">here</a>.''')\n",
    "display(tag)\n",
    "\n",
    "txt = r'K_g = \\begin{align}\\begin{bmatrix}'\n",
    "for j in range(GDL):\n",
    "    for i in range(GDL-1):\n",
    "        txt+=str(np.round(Kg[j,i],2))+'&'\n",
    "    \n",
    "    txt+= str(np.round(Kg[j,GDL-1],2)) + '\\\\\\\\'\n",
    "txt+= '\\end{bmatrix}\\end{align}'\n",
    "display(Math(txt))"
   ]
  },
  {
   "cell_type": "markdown",
   "metadata": {},
   "source": [
    "### Deslocamentos"
   ]
  },
  {
   "cell_type": "markdown",
   "metadata": {},
   "source": [
    "Após a aplicação das condições de contorno, pode-se obter os deslocamentos nos nós da estrutura resolvendo o sistema de equações lineares $\\textbf{K}\\textbf{d}=\\textbf{F}$:"
   ]
  },
  {
   "cell_type": "code",
   "execution_count": 55,
   "metadata": {},
   "outputs": [],
   "source": [
    "# Calculo dos deslocamentos\n",
    "desloc=np.linalg.solve(Kg,Fg)    "
   ]
  },
  {
   "cell_type": "code",
   "execution_count": 56,
   "metadata": {},
   "outputs": [
    {
     "data": {
      "text/html": [
       "<script>\n",
       "code_show=true; \n",
       "function code_toggle() {\n",
       "    if (code_show){\n",
       "        $('div.cell.code_cell.rendered.selected div.input').hide();\n",
       "    } else {\n",
       "        $('div.cell.code_cell.rendered.selected div.input').show();\n",
       "    }\n",
       "    code_show = !code_show\n",
       "} \n",
       "$( document ).ready(code_toggle);\n",
       "</script>\n",
       "To show/hide this cell's raw code input, click <a href=\"javascript:code_toggle()\">here</a>."
      ],
      "text/plain": [
       "<IPython.core.display.HTML object>"
      ]
     },
     "metadata": {},
     "output_type": "display_data"
    },
    {
     "data": {
      "text/latex": [
       "$\\displaystyle \\begin{align}\\quad\\boldsymbol d=\\begin{bmatrix}0.0\\\\0.0\\\\0.0\\\\-2.00E-4\\\\2.00E-3\\\\-4.58E-18\\\\2.00E-3\\\\-2.00E-4\\\\4.00E-3\\\\-1.05E-17\\\\4.00E-3\\\\-2.00E-4\\\\\\end{bmatrix}\\end{align}$"
      ],
      "text/plain": [
       "<IPython.core.display.Math object>"
      ]
     },
     "metadata": {},
     "output_type": "display_data"
    }
   ],
   "source": [
    "tag = HTML('''<script>\n",
    "code_show=true; \n",
    "function code_toggle() {\n",
    "    if (code_show){\n",
    "        $('div.cell.code_cell.rendered.selected div.input').hide();\n",
    "    } else {\n",
    "        $('div.cell.code_cell.rendered.selected div.input').show();\n",
    "    }\n",
    "    code_show = !code_show\n",
    "} \n",
    "$( document ).ready(code_toggle);\n",
    "</script>\n",
    "To show/hide this cell's raw code input, click <a href=\"javascript:code_toggle()\">here</a>.''')\n",
    "display(tag)\n",
    "from decimal import Decimal\n",
    "\n",
    "txt = r'\\begin{align}\\quad\\boldsymbol d=\\begin{bmatrix}'\n",
    "for j in range(GDL):\n",
    "    if desloc[j,0] == 0:\n",
    "        txt+= str(desloc[j,0]) + '\\\\\\\\'\n",
    "    else:    \n",
    "        txt+= str(\"{:.2E}\".format(Decimal(desloc[j,0]))) + '\\\\\\\\'\n",
    "txt+= '\\end{bmatrix}\\end{align}'\n",
    "display(Math(txt))"
   ]
  },
  {
   "cell_type": "markdown",
   "metadata": {},
   "source": [
    "### Tensão nos elementos"
   ]
  },
  {
   "cell_type": "code",
   "execution_count": 57,
   "metadata": {},
   "outputs": [],
   "source": [
    "# Declarando variaveis\n",
    "Smax = np.zeros((n_el,3))\n",
    "for el in range(n_el):\n",
    "    #extrai os nós do elemento \"el\"\n",
    "    no1=conec[el,2]\n",
    "    no2=conec[el,3]\n",
    "    no3=conec[el,4]\n",
    "    xel=np.array([x[no1],x[no2],x[no3]])\n",
    "    yel=np.array([y[no1],y[no2],y[no3]])\n",
    "    #Propriedades do elemento\n",
    "    auxAel = np.vstack([np.ones(3), xel, yel]).T\n",
    "    Ael = 0.5 * np.linalg.det(auxAel)\n",
    "    t = secoes[conec[el,1],1]\n",
    "    E = secoes[conec[el,1],2]\n",
    "    v = secoes[conec[el,1],3]\n",
    "    #Matriz B e ke\n",
    "    B = 1 / (2 * Ael) * np.array([\n",
    "        [yel[1] - yel[2], 0, yel[2] - yel[0], 0, yel[0] - yel[1], 0],\n",
    "        [0, xel[2] - xel[1], 0, xel[0] - xel[2], 0, xel[1] - xel[0]],\n",
    "        [xel[2] - xel[1], yel[1] - yel[2], xel[0] - xel[2], yel[2] - yel[0], xel[1] - xel[0], yel[0] - yel[1]]\n",
    "    ])\n",
    "    \n",
    "    Em = E / (1 - v**2) * np.array([\n",
    "        [1, v, 0],\n",
    "        [v, 1, 0],\n",
    "        [0, 0, (1 - v) / 2]\n",
    "    ])\n",
    "    \n",
    "   #pega os valores dos deslocamentos dos nós do elemento \"el\"\n",
    "    ui = desloc[no1*2]\n",
    "    uj = desloc[no2*2]\n",
    "    uk = desloc[no3*2]\n",
    "    vi = desloc[no1*2+1]\n",
    "    vj = desloc[no2*2+1]\n",
    "    vk = desloc[no3*2+1]\n",
    "    u_e=np.array([ui, vi, uj, vj, uk, vk])\n",
    "    \n",
    "    # Cálculo da deformação e tensão\n",
    "    Deformacao=np.dot(B,u_e)\n",
    "    Tensao=np.dot(Em,Deformacao)\n",
    "    # A linha \"el\" da matriz Smax armazena as tensões Sx, Sy e Tal_xy do elemento \"el\"\n",
    "    Smax[el,:]=Tensao.T    \n"
   ]
  },
  {
   "cell_type": "code",
   "execution_count": 58,
   "metadata": {},
   "outputs": [
    {
     "data": {
      "text/html": [
       "<script>\n",
       "code_show=true; \n",
       "function code_toggle() {\n",
       "    if (code_show){\n",
       "        $('div.cell.code_cell.rendered.selected div.input').hide();\n",
       "    } else {\n",
       "        $('div.cell.code_cell.rendered.selected div.input').show();\n",
       "    }\n",
       "    code_show = !code_show\n",
       "} \n",
       "$( document ).ready(code_toggle);\n",
       "</script>\n",
       "To show/hide this cell's raw code input, click <a href=\"javascript:code_toggle()\">here</a>."
      ],
      "text/plain": [
       "<IPython.core.display.HTML object>"
      ]
     },
     "metadata": {},
     "output_type": "display_data"
    },
    {
     "data": {
      "text/latex": [
       "$\\displaystyle \\begin{align} \\sigma = \\begin{bmatrix}2.00E+7&-9.40E-9&-1.62E-8\\\\2.00E+7&9.81E-10&0.00E+2\\\\2.00E+7&1.88E-9&-3.61E-9\\\\2.00E+7&4.24E-9&0.00E+2\\\\\\end{bmatrix}\\end{align}$"
      ],
      "text/plain": [
       "<IPython.core.display.Math object>"
      ]
     },
     "metadata": {},
     "output_type": "display_data"
    }
   ],
   "source": [
    "tag = HTML('''<script>\n",
    "code_show=true; \n",
    "function code_toggle() {\n",
    "    if (code_show){\n",
    "        $('div.cell.code_cell.rendered.selected div.input').hide();\n",
    "    } else {\n",
    "        $('div.cell.code_cell.rendered.selected div.input').show();\n",
    "    }\n",
    "    code_show = !code_show\n",
    "} \n",
    "$( document ).ready(code_toggle);\n",
    "</script>\n",
    "To show/hide this cell's raw code input, click <a href=\"javascript:code_toggle()\">here</a>.''')\n",
    "display(tag)\n",
    "from decimal import Decimal\n",
    "\n",
    "txt = r'\\begin{align} \\sigma = \\begin{bmatrix}'\n",
    "for j in range(n_el):\n",
    "    for i in range(2):\n",
    "        if Smax[j,i] == 0:\n",
    "            txt+= str(Smax[j,i]) + '&'\n",
    "        else:    \n",
    "            txt+= str(\"{:.2E}\".format(Decimal(Smax[j,i]))) + '&'    \n",
    "    if Smax[j,i] == 0:\n",
    "        txt+= str(Smax[j,2]) + '\\\\\\\\'\n",
    "    else:    \n",
    "        txt+= str(\"{:.2E}\".format(Decimal(Smax[j,2]))) + '\\\\\\\\'    \n",
    "txt+= '\\end{bmatrix}\\end{align}'\n",
    "display(Math(txt))\n"
   ]
  }
 ],
 "metadata": {
  "kernelspec": {
   "display_name": "Python 3 (ipykernel)",
   "language": "python",
   "name": "python3"
  },
  "language_info": {
   "codemirror_mode": {
    "name": "ipython",
    "version": 3
   },
   "file_extension": ".py",
   "mimetype": "text/x-python",
   "name": "python",
   "nbconvert_exporter": "python",
   "pygments_lexer": "ipython3",
   "version": "3.11.1"
  }
 },
 "nbformat": 4,
 "nbformat_minor": 4
}
