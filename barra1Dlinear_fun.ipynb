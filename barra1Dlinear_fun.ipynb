{
 "cells": [
  {
   "cell_type": "code",
   "execution_count": 15,
   "id": "6d322066-2005-48fa-937e-242eae22cf4c",
   "metadata": {},
   "outputs": [],
   "source": [
    "\n",
    "def barra_linear_1d ():\n",
    "    \n",
    "    from sympy import *\n",
    "    import numpy as np\n",
    "\n",
    "    x,x_i,x_j,L_e,E,A,qi,qj = symbols('x x_i x_j L_e E A qi qj')\n",
    "\n",
    "    PSI=Matrix([1, x])\n",
    "    PSI0=Matrix([ [1, 0] , [1, L_e] ])\n",
    "    print(PSI)\n",
    "\n",
    "    N = PSI.T*PSI0.inv()\n",
    "    simplify(N)\n",
    "\n",
    "    B = diff(N,x)\n",
    "    simplify(B)\n",
    "\n",
    "    ke=integrate(B.T*E*A*B,(x,0,L_e))\n",
    "    simplify(ke)\n",
    "\n",
    "    q=Matrix([qi,qj])\n",
    "    fe=integrate(N.T*N*q,(x,0,L_e))\n",
    "    simplify(fe)\n",
    "\n",
    "    return (fe)"
   ]
  }
 ],
 "metadata": {
  "kernelspec": {
   "display_name": "Python 3 (ipykernel)",
   "language": "python",
   "name": "python3"
  },
  "language_info": {
   "codemirror_mode": {
    "name": "ipython",
    "version": 3
   },
   "file_extension": ".py",
   "mimetype": "text/x-python",
   "name": "python",
   "nbconvert_exporter": "python",
   "pygments_lexer": "ipython3",
   "version": "3.10.9"
  }
 },
 "nbformat": 4,
 "nbformat_minor": 5
}
